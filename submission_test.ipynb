{
 "cells": [
  {
   "cell_type": "code",
   "execution_count": null,
   "metadata": {},
   "outputs": [],
   "source": []
  },
  {
   "cell_type": "code",
   "execution_count": 1,
   "metadata": {},
   "outputs": [],
   "source": [
    "import os\n",
    "import sys\n",
    "import random\n",
    "from PIL import Image\n",
    "import numpy as np\n",
    "import pandas as pd\n",
    "#for image transform\n",
    "#import cv2\n",
    "\n",
    "import matplotlib\n",
    "import matplotlib.pyplot as plt\n",
    "matplotlib.rcParams['figure.figsize'] = [5, 5]\n",
    "matplotlib.rcParams['figure.dpi'] = 200\n",
    "\n",
    "import random\n",
    "import time\n",
    "\n",
    "\n",
    "from auto_encoder_submission import *\n",
    "from bbox import *\n",
    "from model_loader import *\n",
    "from test_nn_submission import *"
   ]
  },
  {
   "cell_type": "code",
   "execution_count": 2,
   "metadata": {},
   "outputs": [
    {
     "name": "stdout",
     "output_type": "stream",
     "text": [
      "Loading musketeer.pt\n"
     ]
    }
   ],
   "source": [
    "model_loader = ModelLoader()"
   ]
  },
  {
   "cell_type": "code",
   "execution_count": 3,
   "metadata": {},
   "outputs": [],
   "source": [
    "#omg it loaded"
   ]
  },
  {
   "cell_type": "code",
   "execution_count": 4,
   "metadata": {},
   "outputs": [],
   "source": [
    "np.random.seed(0)\n",
    "torch.manual_seed(0);\n",
    "image_folder = '../data'\n",
    "annotation_csv = '../data/annotation.csv'"
   ]
  },
  {
   "cell_type": "code",
   "execution_count": 5,
   "metadata": {},
   "outputs": [],
   "source": [
    "#make a simple validation loader\n",
    "labeled_scene_index = np.array([132, 133])\n",
    "#copied from run_test.py\n",
    "\n",
    "labeled_trainset_task1 = LabeledDataset(\n",
    "    image_folder=image_folder,\n",
    "    annotation_file=annotation_csv,\n",
    "    scene_index=labeled_scene_index,\n",
    "    transform=get_transform_task1(),\n",
    "    extra_info=False\n",
    "    )\n",
    "dataloader_task1 = torch.utils.data.DataLoader(\n",
    "    labeled_trainset_task1,\n",
    "    batch_size=1,\n",
    "    shuffle=False,\n",
    "    num_workers=4\n",
    "    )"
   ]
  },
  {
   "cell_type": "code",
   "execution_count": 6,
   "metadata": {},
   "outputs": [
    {
     "name": "stdout",
     "output_type": "stream",
     "text": [
      "torch.Size([100, 2, 4]) torch.Size([20, 2, 4])\n",
      "tensor(-3.4588) tensor(2.9859)\n",
      "torch.Size([100, 2, 4]) torch.Size([19, 2, 4])\n",
      "tensor(-3.7445) tensor(3.0575)\n",
      "torch.Size([100, 2, 4]) torch.Size([30, 2, 4])\n",
      "tensor(-0.5293) tensor(2.1804)\n",
      "torch.Size([100, 2, 4]) torch.Size([32, 2, 4])\n",
      "tensor(-3.7500) tensor(2.7015)\n",
      "torch.Size([100, 2, 4]) torch.Size([34, 2, 4])\n",
      "tensor(-3.7527) tensor(3.4859)\n",
      "torch.Size([100, 2, 4]) torch.Size([38, 2, 4])\n",
      "tensor(-3.5819) tensor(3.6586)\n",
      "torch.Size([100, 2, 4]) torch.Size([37, 2, 4])\n",
      "tensor(-3.4591) tensor(3.4547)\n",
      "torch.Size([100, 2, 4]) torch.Size([33, 2, 4])\n",
      "tensor(-3.7520) tensor(3.6515)\n",
      "torch.Size([100, 2, 4]) torch.Size([34, 2, 4])\n",
      "tensor(-3.5781) tensor(3.6503)\n",
      "torch.Size([100, 2, 4]) torch.Size([36, 2, 4])\n",
      "tensor(-0.7386) tensor(3.6509)\n",
      "torch.Size([100, 2, 4]) torch.Size([35, 2, 4])\n",
      "tensor(-3.4409) tensor(3.6491)\n",
      "torch.Size([100, 2, 4]) torch.Size([24, 2, 4])\n",
      "tensor(-3.5906) tensor(3.2425)\n",
      "torch.Size([100, 2, 4]) torch.Size([20, 2, 4])\n",
      "tensor(-3.4550) tensor(3.0185)\n",
      "torch.Size([100, 2, 4]) torch.Size([6, 2, 4])\n",
      "tensor(-3.7422) tensor(3.6523)\n",
      "torch.Size([100, 2, 4]) torch.Size([6, 2, 4])\n",
      "tensor(-3.6695) tensor(0.8597)\n",
      "torch.Size([100, 2, 4]) torch.Size([7, 2, 4])\n",
      "tensor(-3.7471) tensor(3.4216)\n",
      "torch.Size([100, 2, 4]) torch.Size([6, 2, 4])\n",
      "tensor(-3.7409) tensor(3.5327)\n",
      "torch.Size([100, 2, 4]) torch.Size([6, 2, 4])\n",
      "tensor(-3.7451) tensor(3.5452)\n",
      "torch.Size([100, 2, 4]) torch.Size([5, 2, 4])\n",
      "tensor(-3.5793) tensor(3.5777)\n",
      "torch.Size([100, 2, 4]) torch.Size([3, 2, 4])\n",
      "tensor(-3.7456) tensor(1.5016)\n",
      "torch.Size([100, 2, 4]) torch.Size([8, 2, 4])\n",
      "tensor(-3.7531) tensor(3.0871)\n",
      "torch.Size([100, 2, 4]) torch.Size([12, 2, 4])\n",
      "tensor(-3.7395) tensor(2.8273)\n",
      "torch.Size([100, 2, 4]) torch.Size([12, 2, 4])\n",
      "tensor(-0.8691) tensor(3.4665)\n",
      "torch.Size([100, 2, 4]) torch.Size([11, 2, 4])\n",
      "tensor(-1.6823) tensor(1.6652)\n",
      "torch.Size([100, 2, 4]) torch.Size([15, 2, 4])\n",
      "tensor(-3.7354) tensor(3.6318)\n",
      "torch.Size([100, 2, 4]) torch.Size([16, 2, 4])\n",
      "tensor(-1.8244) tensor(3.5928)\n"
     ]
    }
   ],
   "source": [
    "#check bouding box\n",
    "total = 0\n",
    "total_ats_bounding_boxes = 0\n",
    "total_ts_road_map = 0\n",
    "\n",
    "with torch.no_grad():\n",
    "    for i, data in enumerate(dataloader_task1):\n",
    "        total += 1\n",
    "        sample, target, road_image = data\n",
    "        sample = sample.cuda()\n",
    "        \n",
    "        predicted_bounding_boxes = model_loader.get_bounding_boxes(sample)[0].cpu() #does this solve our problem of first element\n",
    "        if i%10 ==0:\n",
    "            print(predicted_bounding_boxes.shape, target['bounding_box'][0].shape)\n",
    "            print(predicted_bounding_boxes.min(), predicted_bounding_boxes.max())\n",
    "\n"
   ]
  },
  {
   "cell_type": "code",
   "execution_count": 7,
   "metadata": {},
   "outputs": [
    {
     "data": {
      "text/plain": [
       "tensor([[[ 3.4236,  3.4236,  2.9915,  2.9915],\n",
       "         [-0.6878, -0.8930, -0.6878, -0.8930]],\n",
       "\n",
       "        [[-2.4128, -2.4128, -2.8653, -2.8653],\n",
       "         [ 0.6976,  0.4924,  0.6976,  0.4924]],\n",
       "\n",
       "        [[ 3.2719,  3.2719,  2.8232,  2.8232],\n",
       "         [ 2.3748,  2.1718,  2.3748,  2.1718]],\n",
       "\n",
       "        [[-0.1121, -0.1121, -0.5483, -0.5483],\n",
       "         [ 3.3146,  3.1099,  3.3146,  3.1099]],\n",
       "\n",
       "        [[ 3.2720,  3.2720,  2.8229,  2.8229],\n",
       "         [ 2.2948,  2.0923,  2.2948,  2.0923]],\n",
       "\n",
       "        [[ 3.2696,  3.2696,  2.8198,  2.8198],\n",
       "         [ 2.4544,  2.2509,  2.4544,  2.2509]],\n",
       "\n",
       "        [[ 0.0521,  0.0521, -0.3789, -0.3789],\n",
       "         [ 2.9867,  2.7841,  2.9867,  2.7841]],\n",
       "\n",
       "        [[ 3.1875,  3.1875,  2.7386,  2.7386],\n",
       "         [ 2.3345,  2.1298,  2.3345,  2.1298]],\n",
       "\n",
       "        [[ 0.0519,  0.0519, -0.3846, -0.3846],\n",
       "         [ 3.3129,  3.1075,  3.3129,  3.1075]],\n",
       "\n",
       "        [[ 3.3513,  3.3513,  2.9000,  2.9000],\n",
       "         [ 2.3340,  2.1337,  2.3340,  2.1337]],\n",
       "\n",
       "        [[ 3.3530,  3.3530,  2.9012,  2.9012],\n",
       "         [ 2.4131,  2.2136,  2.4131,  2.2136]],\n",
       "\n",
       "        [[-2.4125, -2.4125, -2.8651, -2.8651],\n",
       "         [ 0.7777,  0.5724,  0.7777,  0.5724]],\n",
       "\n",
       "        [[ 3.1881,  3.1881,  2.7385,  2.7385],\n",
       "         [ 2.2542,  2.0501,  2.2542,  2.0501]],\n",
       "\n",
       "        [[ 3.1877,  3.1877,  2.7380,  2.7380],\n",
       "         [ 2.4134,  2.2101,  2.4134,  2.2101]],\n",
       "\n",
       "        [[-2.3332, -2.3332, -2.7866, -2.7866],\n",
       "         [ 0.7381,  0.5326,  0.7381,  0.5326]],\n",
       "\n",
       "        [[ 3.4312,  3.4312,  2.9809,  2.9809],\n",
       "         [ 2.3740,  2.1740,  2.3740,  2.1740]],\n",
       "\n",
       "        [[ 3.3520,  3.3520,  2.8999,  2.8999],\n",
       "         [ 2.2536,  2.0538,  2.2536,  2.0538]],\n",
       "\n",
       "        [[-2.2932, -2.2932, -2.7465, -2.7465],\n",
       "         [ 0.6579,  0.4527,  0.6579,  0.4527]],\n",
       "\n",
       "        [[ 3.4311,  3.4311,  2.9807,  2.9807],\n",
       "         [ 2.2939,  2.0942,  2.2939,  2.0942]],\n",
       "\n",
       "        [[ 3.2696,  3.2696,  2.8185,  2.8185],\n",
       "         [ 2.5335,  2.3321,  2.5335,  2.3321]],\n",
       "\n",
       "        [[ 0.0462,  0.0462, -0.3888, -0.3888],\n",
       "         [ 2.8237,  2.6245,  2.8237,  2.6245]],\n",
       "\n",
       "        [[ 0.0526,  0.0526, -0.3859, -0.3859],\n",
       "         [ 3.4722,  3.2709,  3.4722,  3.2709]],\n",
       "\n",
       "        [[ 3.2585,  3.2585,  2.7987,  2.7987],\n",
       "         [ 2.1931,  1.9830,  2.1931,  1.9830]],\n",
       "\n",
       "        [[-0.1141, -0.1141, -0.5462, -0.5462],\n",
       "         [ 3.1480,  2.9469,  3.1480,  2.9469]],\n",
       "\n",
       "        [[ 0.0504,  0.0504, -0.3830, -0.3830],\n",
       "         [ 3.1464,  2.9448,  3.1464,  2.9448]],\n",
       "\n",
       "        [[ 3.2686,  3.2686,  2.8172,  2.8172],\n",
       "         [ 2.6549,  2.4519,  2.6549,  2.4519]],\n",
       "\n",
       "        [[ 3.1867,  3.1867,  2.7361,  2.7361],\n",
       "         [ 2.4944,  2.2912,  2.4944,  2.2912]],\n",
       "\n",
       "        [[ 3.1081,  3.1081,  2.6565,  2.6565],\n",
       "         [ 2.4554,  2.2498,  2.4554,  2.2498]],\n",
       "\n",
       "        [[ 3.4320,  3.4320,  2.9802,  2.9802],\n",
       "         [ 2.4542,  2.2539,  2.4542,  2.2539]],\n",
       "\n",
       "        [[ 3.3529,  3.3529,  2.8976,  2.8976],\n",
       "         [ 2.4940,  2.2948,  2.4940,  2.2948]],\n",
       "\n",
       "        [[ 3.0308,  3.0308,  2.5823,  2.5823],\n",
       "         [ 2.3750,  2.1700,  2.3750,  2.1700]],\n",
       "\n",
       "        [[ 3.0988,  3.0988,  2.6482,  2.6482],\n",
       "         [ 2.1904,  1.9814,  2.1904,  1.9814]],\n",
       "\n",
       "        [[-0.1093, -0.1093, -0.5391, -0.5391],\n",
       "         [ 2.9883,  2.7866,  2.9883,  2.7866]],\n",
       "\n",
       "        [[ 3.1855,  3.1855,  2.7355,  2.7355],\n",
       "         [ 2.5741,  2.3709,  2.5741,  2.3709]],\n",
       "\n",
       "        [[ 3.4211,  3.4211,  2.9845,  2.9845],\n",
       "         [-0.8448, -1.0527, -0.8448, -1.0527]],\n",
       "\n",
       "        [[-0.1139, -0.1139, -0.5479, -0.5479],\n",
       "         [ 2.8262,  2.6276,  2.8262,  2.6276]],\n",
       "\n",
       "        [[-0.1098, -0.1098, -0.5466, -0.5466],\n",
       "         [ 3.4723,  3.2718,  3.4723,  3.2718]],\n",
       "\n",
       "        [[ 0.2103,  0.2103, -0.2228, -0.2228],\n",
       "         [ 2.9859,  2.7820,  2.9859,  2.7820]],\n",
       "\n",
       "        [[ 3.3496,  3.3496,  2.8954,  2.8954],\n",
       "         [ 2.5742,  2.3744,  2.5742,  2.3744]],\n",
       "\n",
       "        [[ 0.2116,  0.2116, -0.2257, -0.2257],\n",
       "         [ 3.4723,  3.2719,  3.4723,  3.2719]],\n",
       "\n",
       "        [[ 3.0300,  3.0300,  2.5811,  2.5811],\n",
       "         [ 2.2947,  2.0900,  2.2947,  2.0900]],\n",
       "\n",
       "        [[ 3.1849,  3.1849,  2.7355,  2.7355],\n",
       "         [ 2.6951,  2.4911,  2.6951,  2.4911]],\n",
       "\n",
       "        [[ 3.4718,  3.4718,  3.0200,  3.0200],\n",
       "         [ 2.2138,  2.0145,  2.2138,  2.0145]],\n",
       "\n",
       "        [[ 3.2698,  3.2698,  2.8169,  2.8169],\n",
       "         [ 2.7338,  2.5315,  2.7338,  2.5315]],\n",
       "\n",
       "        [[ 2.3909,  2.3909,  1.9499,  1.9499],\n",
       "         [ 1.6939,  1.4887,  1.6939,  1.4887]],\n",
       "\n",
       "        [[ 3.4938,  3.4938,  3.0375,  3.0375],\n",
       "         [ 2.5107,  2.3021,  2.5107,  2.3021]],\n",
       "\n",
       "        [[ 3.5109,  3.5109,  3.0642,  3.0642],\n",
       "         [ 2.4124,  2.2135,  2.4124,  2.2135]],\n",
       "\n",
       "        [[-0.2732, -0.2732, -0.7127, -0.7127],\n",
       "         [ 3.3155,  3.1108,  3.3155,  3.1108]],\n",
       "\n",
       "        [[ 2.3892,  2.3892,  1.9500,  1.9500],\n",
       "         [ 1.7728,  1.5689,  1.7728,  1.5689]],\n",
       "\n",
       "        [[ 3.3149,  3.3149,  2.8595,  2.8595],\n",
       "         [ 2.1325,  1.9323,  2.1325,  1.9323]],\n",
       "\n",
       "        [[ 3.3948,  3.3948,  2.9425,  2.9425],\n",
       "         [ 2.1721,  1.9740,  2.1721,  1.9740]],\n",
       "\n",
       "        [[ 2.3905,  2.3905,  1.9495,  1.9495],\n",
       "         [ 1.6141,  1.4089,  1.6141,  1.4089]],\n",
       "\n",
       "        [[ 3.4914,  3.4914,  3.0360,  3.0360],\n",
       "         [ 2.5913,  2.3827,  2.5913,  2.3827]],\n",
       "\n",
       "        [[ 3.4103,  3.4103,  2.9671,  2.9671],\n",
       "         [ 2.6684,  2.4695,  2.6684,  2.4695]],\n",
       "\n",
       "        [[ 2.3136,  2.3136,  1.8694,  1.8694],\n",
       "         [ 1.6544,  1.4471,  1.6544,  1.4471]],\n",
       "\n",
       "        [[ 2.3140,  2.3140,  1.8691,  1.8691],\n",
       "         [ 1.7342,  1.5268,  1.7342,  1.5268]],\n",
       "\n",
       "        [[ 3.0266,  3.0266,  2.5782,  2.5782],\n",
       "         [ 2.4963,  2.2922,  2.4963,  2.2922]],\n",
       "\n",
       "        [[ 0.2095,  0.2095, -0.2276, -0.2276],\n",
       "         [ 3.1464,  2.9440,  3.1464,  2.9440]],\n",
       "\n",
       "        [[ 2.9911,  2.9911,  2.5430,  2.5430],\n",
       "         [ 2.2136,  2.0111,  2.2136,  2.0111]],\n",
       "\n",
       "        [[ 3.1071,  3.1071,  2.6579,  2.6579],\n",
       "         [ 2.6156,  2.4102,  2.6156,  2.4102]],\n",
       "\n",
       "        [[ 3.4743,  3.4743,  3.0204,  3.0204],\n",
       "         [ 2.1334,  1.9342,  2.1334,  1.9342]],\n",
       "\n",
       "        [[ 0.2094,  0.2094, -0.2285, -0.2285],\n",
       "         [ 3.3138,  3.1086,  3.3138,  3.1086]],\n",
       "\n",
       "        [[ 3.4721,  3.4721,  3.0215,  3.0215],\n",
       "         [ 2.0526,  1.8530,  2.0526,  1.8530]],\n",
       "\n",
       "        [[ 3.3122,  3.3122,  2.8612,  2.8612],\n",
       "         [ 2.0519,  1.8512,  2.0519,  1.8512]],\n",
       "\n",
       "        [[ 3.1123,  3.1123,  2.6643,  2.6643],\n",
       "         [ 2.0943,  1.8912,  2.0943,  1.8912]],\n",
       "\n",
       "        [[ 3.1117,  3.1117,  2.6640,  2.6640],\n",
       "         [ 1.9745,  1.7711,  1.9745,  1.7711]],\n",
       "\n",
       "        [[ 2.2294,  2.2294,  1.7839,  1.7839],\n",
       "         [ 1.7735,  1.5691,  1.7735,  1.5691]],\n",
       "\n",
       "        [[ 2.4692,  2.4692,  2.0277,  2.0277],\n",
       "         [ 1.6550,  1.4488,  1.6550,  1.4488]],\n",
       "\n",
       "        [[ 3.4957,  3.4957,  3.0368,  3.0368],\n",
       "         [ 1.9530,  1.7442,  1.9530,  1.7442]],\n",
       "\n",
       "        [[-2.2960, -2.2960, -2.7485, -2.7485],\n",
       "         [ 0.8174,  0.6114,  0.8174,  0.6114]],\n",
       "\n",
       "        [[ 2.9076,  2.9076,  2.4567,  2.4567],\n",
       "         [ 2.3343,  2.1284,  2.3343,  2.1284]],\n",
       "\n",
       "        [[ 3.5511,  3.5511,  3.1061,  3.1061],\n",
       "         [ 2.3326,  2.1332,  2.3326,  2.1332]],\n",
       "\n",
       "        [[ 3.0302,  3.0302,  2.5825,  2.5825],\n",
       "         [ 2.1356,  1.9315,  2.1356,  1.9315]],\n",
       "\n",
       "        [[ 3.3937,  3.3937,  2.9427,  2.9427],\n",
       "         [ 2.0917,  1.8928,  2.0917,  1.8928]],\n",
       "\n",
       "        [[ 3.2723,  3.2723,  2.8253,  2.8253],\n",
       "         [ 1.9750,  1.7726,  1.9750,  1.7726]],\n",
       "\n",
       "        [[ 2.9049,  2.9049,  2.4537,  2.4537],\n",
       "         [ 2.4154,  2.2102,  2.4154,  2.2102]],\n",
       "\n",
       "        [[ 2.9084,  2.9084,  2.4568,  2.4568],\n",
       "         [ 2.2540,  2.0481,  2.2540,  2.0481]],\n",
       "\n",
       "        [[ 0.3703,  0.3703, -0.0657, -0.0657],\n",
       "         [ 3.4724,  3.2709,  3.4724,  3.2709]],\n",
       "\n",
       "        [[ 2.4692,  2.4692,  2.0279,  2.0279],\n",
       "         [ 1.7348,  1.5285,  1.7348,  1.5285]],\n",
       "\n",
       "        [[ 3.3918,  3.3918,  2.9413,  2.9413],\n",
       "         [ 2.0126,  1.8130,  2.0126,  1.8130]],\n",
       "\n",
       "        [[ 3.4314,  3.4314,  2.9768,  2.9768],\n",
       "         [ 2.7332,  2.5341,  2.7332,  2.5341]],\n",
       "\n",
       "        [[-0.2765, -0.2765, -0.7106, -0.7106],\n",
       "         [ 3.1485,  2.9475,  3.1485,  2.9475]],\n",
       "\n",
       "        [[-2.4526, -2.4526, -2.9063, -2.9063],\n",
       "         [ 0.8558,  0.6499,  0.8558,  0.6499]],\n",
       "\n",
       "        [[ 3.5752,  3.5752,  3.1199,  3.1199],\n",
       "         [ 2.2735,  2.0614,  2.2735,  2.0614]],\n",
       "\n",
       "        [[ 3.5487,  3.5487,  3.1015,  3.1015],\n",
       "         [ 2.6525,  2.4545,  2.6525,  2.4545]],\n",
       "\n",
       "        [[ 2.5493,  2.5493,  2.1062,  2.1062],\n",
       "         [ 1.6959,  1.4888,  1.6959,  1.4888]],\n",
       "\n",
       "        [[ 2.3107,  2.3107,  1.8681,  1.8681],\n",
       "         [ 1.8145,  1.6073,  1.8145,  1.6073]],\n",
       "\n",
       "        [[-0.2705, -0.2705, -0.7008, -0.7008],\n",
       "         [ 2.8283,  2.6285,  2.8283,  2.6285]],\n",
       "\n",
       "        [[-0.2699, -0.2699, -0.6984, -0.6984],\n",
       "         [ 2.9903,  2.7881,  2.9903,  2.7881]],\n",
       "\n",
       "        [[ 2.9129,  2.9129,  2.4621,  2.4621],\n",
       "         [ 2.1736,  1.9690,  2.1736,  1.9690]],\n",
       "\n",
       "        [[-0.2748, -0.2748, -0.7198, -0.7198],\n",
       "         [ 3.6326,  3.4294,  3.6326,  3.4294]],\n",
       "\n",
       "        [[ 2.3933,  2.3933,  1.9519,  1.9519],\n",
       "         [ 1.8535,  1.6494,  1.8535,  1.6494]],\n",
       "\n",
       "        [[ 2.5488,  2.5488,  2.1057,  2.1057],\n",
       "         [ 1.6159,  1.4089,  1.6159,  1.4089]],\n",
       "\n",
       "        [[ 3.5540,  3.5540,  3.1063,  3.1063],\n",
       "         [ 2.0116,  1.8126,  2.0116,  1.8126]],\n",
       "\n",
       "        [[ 0.5282,  0.5282,  0.0792,  0.0792],\n",
       "         [ 3.6316,  3.4283,  3.6316,  3.4283]],\n",
       "\n",
       "        [[ 3.5943,  3.5943,  3.1457,  3.1457],\n",
       "         [ 2.4535,  2.2548,  2.4535,  2.2548]],\n",
       "\n",
       "        [[ 3.0260,  3.0260,  2.5788,  2.5788],\n",
       "         [ 2.5755,  2.3702,  2.5755,  2.3702]],\n",
       "\n",
       "        [[ 3.5561,  3.5561,  3.1087,  3.1087],\n",
       "         [ 2.1718,  1.9733,  2.1718,  1.9733]],\n",
       "\n",
       "        [[ 3.2723,  3.2723,  2.8248,  2.8248],\n",
       "         [ 1.8956,  1.6928,  1.8956,  1.6928]],\n",
       "\n",
       "        [[ 3.4975,  3.4975,  3.0372,  3.0372],\n",
       "         [ 1.8727,  1.6636,  1.8727,  1.6636]]])"
      ]
     },
     "execution_count": 7,
     "metadata": {},
     "output_type": "execute_result"
    }
   ],
   "source": [
    "#check on output\n",
    "predicted_bounding_boxes"
   ]
  },
  {
   "cell_type": "code",
   "execution_count": 8,
   "metadata": {
    "scrolled": false
   },
   "outputs": [
    {
     "data": {
      "image/png": "[encoded data removed]",
      "text/plain": [
       "<Figure size 400x400 with 1 Axes>"
      ]
     },
     "metadata": {
      "needs_background": "light"
     },
     "output_type": "display_data"
    },
    {
     "data": {
      "image/png": "[encoded data removed]",
      "text/plain": [
       "<Figure size 400x400 with 1 Axes>"
      ]
     },
     "metadata": {
      "needs_background": "light"
     },
     "output_type": "display_data"
    },
    {
     "data": {
      "image/png": "[encoded data removed]",
      "text/plain": [
       "<Figure size 400x400 with 1 Axes>"
      ]
     },
     "metadata": {
      "needs_background": "light"
     },
     "output_type": "display_data"
    },
    {
     "data": {
      "image/png": "[encoded data removed]",
      "text/plain": [
       "<Figure size 400x400 with 1 Axes>"
      ]
     },
     "metadata": {
      "needs_background": "light"
     },
     "output_type": "display_data"
    },
    {
     "data": {
      "image/png": "[encoded data removed]",
      "text/plain": [
       "<Figure size 400x400 with 1 Axes>"
      ]
     },
     "metadata": {
      "needs_background": "light"
     },
     "output_type": "display_data"
    },
    {
     "data": {
      "image/png": "[encoded data removed]",
      "text/plain": [
       "<Figure size 400x400 with 1 Axes>"
      ]
     },
     "metadata": {
      "needs_background": "light"
     },
     "output_type": "display_data"
    }
   ],
   "source": [
    "with torch.no_grad():\n",
    "    for i, data in enumerate(dataloader_task1):\n",
    "        \n",
    "        sample, target, road_image = data\n",
    "        sample = sample.cuda()\n",
    "        \n",
    "        predicted_road_map = model_loader.get_binary_road_map(sample).cpu()\n",
    "        plt.figure(figsize=(2,2))\n",
    "        plt.imshow(predicted_road_map[0].cpu().data.numpy())\n",
    "        if i ==5:\n",
    "            break"
   ]
  },
  {
   "cell_type": "code",
   "execution_count": 9,
   "metadata": {},
   "outputs": [
    {
     "data": {
      "text/plain": [
       "torch.Size([1, 800, 800])"
      ]
     },
     "execution_count": 9,
     "metadata": {},
     "output_type": "execute_result"
    }
   ],
   "source": [
    "predicted_road_map.shape"
   ]
  },
  {
   "cell_type": "code",
   "execution_count": 10,
   "metadata": {},
   "outputs": [
    {
     "data": {
      "text/plain": [
       "tensor(0., dtype=torch.float64)"
      ]
     },
     "execution_count": 10,
     "metadata": {},
     "output_type": "execute_result"
    }
   ],
   "source": [
    "predicted_road_map.min()"
   ]
  },
  {
   "cell_type": "code",
   "execution_count": 11,
   "metadata": {},
   "outputs": [
    {
     "data": {
      "text/plain": [
       "tensor(1., dtype=torch.float64)"
      ]
     },
     "execution_count": 11,
     "metadata": {},
     "output_type": "execute_result"
    }
   ],
   "source": [
    "predicted_road_map.max()"
   ]
  },
  {
   "cell_type": "code",
   "execution_count": null,
   "metadata": {},
   "outputs": [],
   "source": []
  }
 ],
 "metadata": {
  "kernelspec": {
   "display_name": "gpu",
   "language": "python",
   "name": "gpu"
  },
  "language_info": {
   "codemirror_mode": {
    "name": "ipython",
    "version": 3
   },
   "file_extension": ".py",
   "mimetype": "text/x-python",
   "name": "python",
   "nbconvert_exporter": "python",
   "pygments_lexer": "ipython3",
   "version": "3.7.7"
  }
 },
 "nbformat": 4,
 "nbformat_minor": 4
}
