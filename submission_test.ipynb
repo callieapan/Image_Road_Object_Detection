{
 "cells": [
  {
   "cell_type": "code",
   "execution_count": null,
   "metadata": {},
   "outputs": [],
   "source": []
  },
  {
   "cell_type": "code",
   "execution_count": 1,
   "metadata": {},
   "outputs": [],
   "source": [
    "import os\n",
    "import sys\n",
    "import random\n",
    "from PIL import Image\n",
    "import numpy as np\n",
    "import pandas as pd\n",
    "#for image transform\n",
    "#import cv2\n",
    "\n",
    "import matplotlib\n",
    "import matplotlib.pyplot as plt\n",
    "matplotlib.rcParams['figure.figsize'] = [5, 5]\n",
    "matplotlib.rcParams['figure.dpi'] = 200\n",
    "\n",
    "import random\n",
    "import time\n",
    "\n",
    "\n",
    "from auto_encoder_submission import *\n",
    "from bbox import *\n",
    "from model_loader import *\n",
    "from test_nn_submission import *"
   ]
  },
  {
   "cell_type": "code",
   "execution_count": 2,
   "metadata": {},
   "outputs": [
    {
     "name": "stdout",
     "output_type": "stream",
     "text": [
      "Loading musketeer.pt\n"
     ]
    }
   ],
   "source": [
    "model_loader = ModelLoader()"
   ]
  },
  {
   "cell_type": "code",
   "execution_count": 3,
   "metadata": {},
   "outputs": [],
   "source": [
    "from sklearn.metrics import confusion_matrix\n",
    "\n",
    "def convert_800 (bbox):\n",
    "    bbox = bbox.view(-1, 1, 8)\n",
    "    bbox = bbox *10 +400\n",
    "    \n",
    "    road_img = torch.zeros(800, 800)\n",
    "    for i in range(bbox.shape[0]):\n",
    "        colmax = int(round(bbox[i][0][0].item()))\n",
    "        colmin =  int(round(bbox[i][0][2].item()))\n",
    "        rowmax =  int(round(bbox[i][0][4].item()))\n",
    "        rowmin =  int(round(bbox[i][0][5].item()))\n",
    "        \n",
    "        road_img[rowmin:rowmax, colmin:colmax] = 1\n",
    "    return road_img.numpy()\n",
    "        \n",
    "def cal_score(pred_conv, label_conv):\n",
    "    \n",
    "    #both pred_conv, label_conv are 800 x 800 of 0, 1 in each pixel\n",
    "    #first convert label into 0, 1 into 10, 20's \n",
    "    #calculate label - pred\n",
    "    #keys are TP = 19, FP = 9, TN = 10, FN = 20\n",
    "    assert(pred_conv.shape == (800, 800))\n",
    "    assert(label_conv.shape == (800, 800))\n",
    "    label2 = (label_conv + 1) *10\n",
    "    \n",
    "    diff_M = (label2 - pred_conv)\n",
    "    TP = np.sum(diff_M == 19) \n",
    "    FP = np.sum(diff_M == 9) \n",
    "    TN = np.sum(diff_M == 10) \n",
    "    FN = np.sum(diff_M == 20) \n",
    "    #print(TP)\n",
    "    score = TP/(TP + FP + FN)\n",
    "    return score\n",
    "    "
   ]
  },
  {
   "cell_type": "code",
   "execution_count": 4,
   "metadata": {},
   "outputs": [],
   "source": [
    "np.random.seed(0)\n",
    "torch.manual_seed(0);\n",
    "image_folder = '../data'\n",
    "annotation_csv = '../data/annotation.csv'"
   ]
  },
  {
   "cell_type": "code",
   "execution_count": 5,
   "metadata": {},
   "outputs": [],
   "source": [
    "#make a simple validation loader\n",
    "labeled_scene_index = np.array([107, 133])\n",
    "#copied from run_test.py\n",
    "\n",
    "labeled_trainset_task1 = LabeledDataset(\n",
    "    image_folder=image_folder,\n",
    "    annotation_file=annotation_csv,\n",
    "    scene_index=labeled_scene_index,\n",
    "    transform=get_transform_task1(),\n",
    "    extra_info=False\n",
    "    )\n",
    "dataloader_task1 = torch.utils.data.DataLoader(\n",
    "    labeled_trainset_task1,\n",
    "    batch_size=1,\n",
    "    shuffle=True,\n",
    "    num_workers=4\n",
    "    )"
   ]
  },
  {
   "cell_type": "code",
   "execution_count": null,
   "metadata": {
    "scrolled": false
   },
   "outputs": [],
   "source": [
    "#check bouding box\n",
    "total = 0\n",
    "total_ats_bounding_boxes = 0\n",
    "total_ts_road_map = 0\n",
    "\n",
    "with torch.no_grad():\n",
    "    ts_list = []\n",
    "    for i, data in enumerate(dataloader_task1):\n",
    "        total += 1\n",
    "        sample, target, road_image = data\n",
    "        sample = sample.cuda()\n",
    "        \n",
    "        predicted_bounding_boxes = model_loader.get_bounding_boxes(sample)[0].cpu() #does this solve our problem of first element\n",
    "        \n",
    "        pred_conv = convert_800(predicted_bounding_boxes)\n",
    "        label_conv = convert_800(target['bounding_box'][0])\n",
    "        ts_i = cal_score(pred_conv, label_conv)\n",
    "        \n",
    "        ts_list.append(ts_i)\n",
    "        \n",
    "        #if i%20 ==0:\n",
    "            #print(predicted_bounding_boxes.shape, target['bounding_box'][0].shape)\n",
    "            #print(predicted_bounding_boxes.min(), predicted_bounding_boxes.max())\n",
    "             \n",
    "            \n",
    "            \n",
    "            #fig, axs = plt.subplots(1,2,figsize=(6, 3))\n",
    "            #axs[0].imshow(pred_conv, cmap ='binary')\n",
    "\n",
    "            #plot target\n",
    "            #axs[1].imshow(label_conv, cmap ='binary')\n",
    "\n"
   ]
  },
  {
   "cell_type": "code",
   "execution_count": null,
   "metadata": {},
   "outputs": [],
   "source": [
    "print(np.array(ts_list).mean())"
   ]
  },
  {
   "cell_type": "code",
   "execution_count": null,
   "metadata": {},
   "outputs": [],
   "source": []
  },
  {
   "cell_type": "code",
   "execution_count": null,
   "metadata": {},
   "outputs": [],
   "source": []
  },
  {
   "cell_type": "code",
   "execution_count": null,
   "metadata": {
    "scrolled": false
   },
   "outputs": [],
   "source": [
    "with torch.no_grad():\n",
    "    for i, data in enumerate(dataloader_task1):\n",
    "        \n",
    "        sample, target, road_image = data\n",
    "        sample = sample.cuda()\n",
    "        \n",
    "        predicted_road_map = model_loader.get_binary_road_map(sample).cpu()\n",
    "        plt.figure(figsize=(2,2))\n",
    "        plt.imshow(predicted_road_map[0].cpu().data.numpy())\n",
    "        if i ==5:\n",
    "            break"
   ]
  },
  {
   "cell_type": "code",
   "execution_count": null,
   "metadata": {},
   "outputs": [],
   "source": [
    "predicted_road_map.shape"
   ]
  },
  {
   "cell_type": "code",
   "execution_count": null,
   "metadata": {},
   "outputs": [],
   "source": [
    "predicted_road_map.min()"
   ]
  },
  {
   "cell_type": "code",
   "execution_count": null,
   "metadata": {},
   "outputs": [],
   "source": [
    "predicted_road_map.max()"
   ]
  }
 ],
 "metadata": {
  "kernelspec": {
   "display_name": "gpu",
   "language": "python",
   "name": "gpu"
  },
  "language_info": {
   "codemirror_mode": {
    "name": "ipython",
    "version": 3
   },
   "file_extension": ".py",
   "mimetype": "text/x-python",
   "name": "python",
   "nbconvert_exporter": "python",
   "pygments_lexer": "ipython3",
   "version": "3.7.7"
  }
 },
 "nbformat": 4,
 "nbformat_minor": 4
}
