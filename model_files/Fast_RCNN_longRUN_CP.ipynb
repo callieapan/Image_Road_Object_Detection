{
 "cells": [
  {
   "cell_type": "code",
   "execution_count": 27,
   "metadata": {},
   "outputs": [
    {
     "name": "stdout",
     "output_type": "stream",
     "text": [
      "The autoreload extension is already loaded. To reload it, use:\n",
      "  %reload_ext autoreload\n",
      "The autotime extension is already loaded. To reload it, use:\n",
      "  %reload_ext autotime\n",
      "time: 23.7 ms\n"
     ]
    }
   ],
   "source": [
    "import os\n",
    "import sys\n",
    "import random\n",
    "from PIL import Image\n",
    "import numpy as np\n",
    "import pandas as pd\n",
    "#for image transform\n",
    "#import cv2\n",
    "\n",
    "import matplotlib\n",
    "import matplotlib.pyplot as plt\n",
    "matplotlib.rcParams['figure.figsize'] = [5, 5]\n",
    "matplotlib.rcParams['figure.dpi'] = 200\n",
    "\n",
    "import random\n",
    "import time\n",
    "\n",
    "sys.path.insert(1, '//workspace/dl2020')\n",
    "#from model_loader_CP2 import *\n",
    "from CP_helper_RCNN import *\n",
    "from data_helper_RCNN import *\n",
    "\n",
    "#from Unet import *\n",
    "\n",
    "import torch\n",
    "import torch.nn as nn\n",
    "import torch.nn.functional as F\n",
    "import torchvision\n",
    "import torchvision.transforms as transforms\n",
    "import torch.utils.data\n",
    "\n",
    "\n",
    " \n",
    "from torchvision.models.detection.faster_rcnn import FastRCNNPredictor\n",
    "from torchvision.models.detection.mask_rcnn import MaskRCNNPredictor\n",
    "#from engine import train_one_epoch, evaluate\n",
    "\n",
    "\n",
    "from data_helper import UnlabeledDataset, LabeledDataset\n",
    "from helper import collate_fn, draw_box\n",
    "\n",
    "%load_ext autoreload\n",
    "%autoreload 2\n",
    "%load_ext autotime"
   ]
  },
  {
   "cell_type": "code",
   "execution_count": 2,
   "metadata": {},
   "outputs": [
    {
     "name": "stdout",
     "output_type": "stream",
     "text": [
      "time: 4.76 ms\n"
     ]
    }
   ],
   "source": [
    "random.seed(0)\n",
    "np.random.seed(0)\n",
    "torch.manual_seed(0);\n",
    "image_folder = '../data'\n",
    "annotation_csv = '../data/annotation.csv'"
   ]
  },
  {
   "cell_type": "code",
   "execution_count": 3,
   "metadata": {},
   "outputs": [
    {
     "name": "stdout",
     "output_type": "stream",
     "text": [
      "time: 3.81 ms\n"
     ]
    }
   ],
   "source": [
    "unlabeled_scene_index = np.arange(106)\n",
    "# The scenes from 106 - 133 are labeled\n",
    "# You should devide the labeled_scene_index into two subsets (training and validation)\n",
    "labeled_scene_index = np.arange(106, 134)\n",
    "train_labeled_scene_index, val_labeled_scene_index  = gen_train_val_index(labeled_scene_index)"
   ]
  },
  {
   "cell_type": "code",
   "execution_count": 4,
   "metadata": {},
   "outputs": [
    {
     "name": "stdout",
     "output_type": "stream",
     "text": [
      "time: 731 ms\n"
     ]
    }
   ],
   "source": [
    "transform = transforms.ToTensor()\n",
    "\n",
    "kwargs = {\n",
    "    #'first_dim': 'sample',\n",
    "    'transform': transform,\n",
    "    'image_folder': image_folder,\n",
    "    'annotation_file': annotation_csv,\n",
    "    'extra_info': True}\n",
    "\n",
    "#dataset_train = LabeledDataset_RCNN (scene_index=train_labeled_scene_index, **kwargs)\n",
    "#dataset_val = LabeledDataset_RCNN (scene_index=val_labeled_scene_index, **kwargs)\n",
    "\n",
    "dataset_train = LabeledDataset(scene_index=train_labeled_scene_index, **kwargs)\n",
    "dataset_val = LabeledDataset(scene_index=val_labeled_scene_index, **kwargs)\n",
    "\n",
    "\n",
    "\n",
    "\n",
    "\n",
    "train_data_loader = torch.utils.data.DataLoader(\n",
    "    dataset_train, batch_size=5, shuffle=False, num_workers=4,\n",
    "    collate_fn=collate_fn)\n",
    "\n",
    "val_data_loader = torch.utils.data.DataLoader(\n",
    "    dataset_val, batch_size=1, shuffle=False, num_workers=4,\n",
    "    collate_fn=collate_fn)"
   ]
  },
  {
   "cell_type": "code",
   "execution_count": 5,
   "metadata": {},
   "outputs": [
    {
     "name": "stdout",
     "output_type": "stream",
     "text": [
      "time: 5.47 ms\n"
     ]
    }
   ],
   "source": [
    "from torchvision.models.detection.rpn import AnchorGenerator\n",
    "from torchvision.models.detection.rpn import RPNHead\n",
    "def fr50_Model(pretrained = False):\n",
    "    model = torchvision.models.detection.fasterrcnn_resnet50_fpn(pretrained=pretrained) #true works\n",
    "    # create an anchor_generator for the FPN\n",
    "    # which by default has 5 outputs\n",
    "    anchor_generator = AnchorGenerator(\n",
    "        #sizes=tuple([(16, 32, 64, 128, 256, 512) for _ in range(5)]),\n",
    "        sizes=tuple([(10, 15, 20, 30, 40) for _ in range(5)]),\n",
    "         \n",
    "        aspect_ratios=tuple([(0.25, 0.5, 1.0, 2.0) for _ in range(5)]))\n",
    "    \n",
    "    \n",
    "    \n",
    "    model.rpn.anchor_generator = anchor_generator\n",
    "\n",
    "    # 256 because that's the number of features that FPN returns\n",
    "    model.rpn.head = RPNHead(256, anchor_generator.num_anchors_per_location()[0])\n",
    "    return model"
   ]
  },
  {
   "cell_type": "code",
   "execution_count": 6,
   "metadata": {},
   "outputs": [
    {
     "name": "stdout",
     "output_type": "stream",
     "text": [
      "time: 1.84 s\n"
     ]
    }
   ],
   "source": [
    "#check one sample from train with batch size 20\n",
    "for i, (sample, old_targets, road_image, extra) in enumerate(train_data_loader): #, print_freq, header): \n",
    "        \n",
    "        images = sample\n",
    "        targets = trans_target(old_targets)\n",
    "        #print(\"images len {}, targets len {}\".format(len(images), len(targets)))\n",
    "        #print(\"images[0] shape {}\".format(images[0].shape)) # [6, 3, 256, 306]      \n",
    "        #images = list(image.to(device) for image in images)\n",
    "        #targets = [{k: v.to(device) for k, v in t.items()} for t in targets]\n",
    "        break"
   ]
  },
  {
   "cell_type": "code",
   "execution_count": 7,
   "metadata": {},
   "outputs": [
    {
     "name": "stdout",
     "output_type": "stream",
     "text": [
      "time: 549 ms\n"
     ]
    }
   ],
   "source": [
    "normalize = torchvision.transforms.Normalize(mean=[0.6394939, 0.6755114, 0.7049375],\n",
    "                                 std=[0.31936955, 0.3117349 , 0.2953726 ])\n",
    "\n",
    "tt = transforms.Compose([transforms.Resize((800, 800)), transforms.ToTensor(), normalize]) \n",
    "\n",
    "images = [tt(sew_images(s)) for s in sample] #list of [3, 800, 800], should be 1 per patch\n",
    "targets = trans_target(old_targets)"
   ]
  },
  {
   "cell_type": "code",
   "execution_count": 8,
   "metadata": {},
   "outputs": [
    {
     "data": {
      "text/plain": [
       "5"
      ]
     },
     "execution_count": 8,
     "metadata": {},
     "output_type": "execute_result"
    },
    {
     "name": "stdout",
     "output_type": "stream",
     "text": [
      "time: 11.7 ms\n"
     ]
    }
   ],
   "source": [
    "len(targets)"
   ]
  },
  {
   "cell_type": "code",
   "execution_count": 9,
   "metadata": {},
   "outputs": [
    {
     "name": "stdout",
     "output_type": "stream",
     "text": [
      "time: 1.64 ms\n"
     ]
    }
   ],
   "source": [
    "#testmodel = fr50_Model(True)"
   ]
  },
  {
   "cell_type": "code",
   "execution_count": 10,
   "metadata": {},
   "outputs": [
    {
     "name": "stdout",
     "output_type": "stream",
     "text": [
      "time: 1.29 ms\n"
     ]
    }
   ],
   "source": [
    "#loss_dict = testmodel(images, targets)"
   ]
  },
  {
   "cell_type": "code",
   "execution_count": 11,
   "metadata": {},
   "outputs": [
    {
     "name": "stdout",
     "output_type": "stream",
     "text": [
      "time: 1.19 ms\n"
     ]
    }
   ],
   "source": [
    "#loss_dict #okay works"
   ]
  },
  {
   "cell_type": "code",
   "execution_count": 12,
   "metadata": {},
   "outputs": [
    {
     "name": "stdout",
     "output_type": "stream",
     "text": [
      "time: 5.18 s\n"
     ]
    }
   ],
   "source": [
    "## try training the a model with sew images non pannorm\n",
    "\n",
    "device = torch.device('cuda') if torch.cuda.is_available() else torch.device('cpu')\n",
    "\n",
    "# our dataset has two classes only - background and person\n",
    "num_classes = 2 #4 returned classifier as nan\n",
    "\n",
    "# get the model using our helper function\n",
    "#model = get_instance_segmentation_model(num_classes)\n",
    "model = fr50_Model(False) #try False\n",
    "\n",
    "# move model to the right device\n",
    "model.to(device)\n",
    "\n",
    "# construct an optimizer\n",
    "params = [p for p in model.parameters() if p.requires_grad]\n",
    "optimizer = torch.optim.SGD(params, lr=0.0001, #reduce from 0.005 to help with the classifer loss = nan issue\n",
    "                            momentum=0.9, weight_decay=0.0005)\n",
    "\n",
    "# and a learning rate scheduler which decreases the learning rate by\n",
    "# 10x every 3 epochs\n",
    "lr_scheduler = torch.optim.lr_scheduler.StepLR(optimizer,\n",
    "                                               step_size=3,\n",
    "                                               gamma=0.1)"
   ]
  },
  {
   "cell_type": "code",
   "execution_count": 13,
   "metadata": {
    "scrolled": false
   },
   "outputs": [
    {
     "name": "stdout",
     "output_type": "stream",
     "text": [
      "Epoch: [0]  [  0/479]  eta: 0:46:15  lr: 0.000100  loss: 5.5524 (5.5524)  loss_classifier: 4.7879 (4.7879)  loss_box_reg: 0.0002 (0.0002)  loss_objectness: 0.6901 (0.6901)  loss_rpn_box_reg: 0.0742 (0.0742)  time: 5.7935  data: 1.2025  max mem: 3770\n",
      "Epoch: [0]  [100/479]  eta: 0:09:22  lr: 0.000100  loss: 0.9806 (1.3812)  loss_classifier: 0.1959 (0.5735)  loss_box_reg: 0.0198 (0.0152)  loss_objectness: 0.6219 (0.6623)  loss_rpn_box_reg: 0.1167 (0.1302)  time: 1.5184  data: 0.0294  max mem: 4710\n",
      "Epoch: [0]  [200/479]  eta: 0:07:02  lr: 0.000100  loss: 1.0882 (1.1752)  loss_classifier: 0.3026 (0.3855)  loss_box_reg: 0.0690 (0.0232)  loss_objectness: 0.5044 (0.6115)  loss_rpn_box_reg: 0.1996 (0.1550)  time: 1.7191  data: 0.0294  max mem: 5633\n",
      "Epoch: [0]  [300/479]  eta: 0:04:35  lr: 0.000100  loss: 0.7970 (1.0931)  loss_classifier: 0.1617 (0.3305)  loss_box_reg: 0.0232 (0.0310)  loss_objectness: 0.4667 (0.5709)  loss_rpn_box_reg: 0.1560 (0.1608)  time: 1.5379  data: 0.0324  max mem: 5633\n",
      "Epoch: [0]  [400/479]  eta: 0:02:00  lr: 0.000100  loss: 0.8637 (1.0045)  loss_classifier: 0.2041 (0.2857)  loss_box_reg: 0.0316 (0.0292)  loss_objectness: 0.4670 (0.5449)  loss_rpn_box_reg: 0.1446 (0.1446)  time: 1.6178  data: 0.0306  max mem: 5633\n",
      "Epoch: [0]  [478/479]  eta: 0:00:01  lr: 0.000100  loss: 0.8808 (0.9682)  loss_classifier: 0.1934 (0.2616)  loss_box_reg: 0.0182 (0.0271)  loss_objectness: 0.4923 (0.5323)  loss_rpn_box_reg: 0.1926 (0.1471)  time: 1.6330  data: 0.0304  max mem: 7303\n",
      "Epoch: [0] Total time: 0:12:06 (1.5171 s / it)\n",
      "Epoch: [1]  [  0/479]  eta: 0:20:30  lr: 0.000100  loss: 0.5544 (0.5544)  loss_classifier: 0.0725 (0.0725)  loss_box_reg: 0.0057 (0.0057)  loss_objectness: 0.4092 (0.4092)  loss_rpn_box_reg: 0.0670 (0.0670)  time: 2.5690  data: 1.1924  max mem: 7303\n",
      "Epoch: [1]  [100/479]  eta: 0:09:03  lr: 0.000100  loss: 0.6841 (0.6682)  loss_classifier: 0.1675 (0.1376)  loss_box_reg: 0.0203 (0.0199)  loss_objectness: 0.3776 (0.4055)  loss_rpn_box_reg: 0.1039 (0.1051)  time: 1.4819  data: 0.0270  max mem: 7303\n",
      "Epoch: [1]  [200/479]  eta: 0:06:56  lr: 0.000100  loss: 0.9923 (0.7429)  loss_classifier: 0.2766 (0.1715)  loss_box_reg: 0.0555 (0.0287)  loss_objectness: 0.4367 (0.4092)  loss_rpn_box_reg: 0.1691 (0.1335)  time: 1.7517  data: 0.0304  max mem: 7303\n",
      "Epoch: [1]  [300/479]  eta: 0:04:32  lr: 0.000100  loss: 0.7382 (0.7704)  loss_classifier: 0.1401 (0.1807)  loss_box_reg: 0.0169 (0.0324)  loss_objectness: 0.3990 (0.4119)  loss_rpn_box_reg: 0.1470 (0.1453)  time: 1.5336  data: 0.0313  max mem: 7303\n",
      "Epoch: [1]  [400/479]  eta: 0:01:59  lr: 0.000100  loss: 0.8170 (0.7501)  loss_classifier: 0.1706 (0.1744)  loss_box_reg: 0.0310 (0.0312)  loss_objectness: 0.4300 (0.4129)  loss_rpn_box_reg: 0.1444 (0.1317)  time: 1.5995  data: 0.0286  max mem: 7303\n",
      "Epoch: [1]  [478/479]  eta: 0:00:01  lr: 0.000100  loss: 0.8209 (0.7440)  loss_classifier: 0.1872 (0.1655)  loss_box_reg: 0.0241 (0.0284)  loss_objectness: 0.4460 (0.4140)  loss_rpn_box_reg: 0.2128 (0.1361)  time: 1.6297  data: 0.0298  max mem: 7303\n",
      "Epoch: [1] Total time: 0:11:59 (1.5025 s / it)\n",
      "Epoch: [2]  [  0/479]  eta: 0:22:03  lr: 0.000100  loss: 0.5018 (0.5018)  loss_classifier: 0.0661 (0.0661)  loss_box_reg: 0.0072 (0.0072)  loss_objectness: 0.3418 (0.3418)  loss_rpn_box_reg: 0.0867 (0.0867)  time: 2.7634  data: 1.1532  max mem: 7303\n",
      "Epoch: [2]  [100/479]  eta: 0:09:12  lr: 0.000100  loss: 0.6759 (0.6475)  loss_classifier: 0.1750 (0.1419)  loss_box_reg: 0.0198 (0.0232)  loss_objectness: 0.3588 (0.3813)  loss_rpn_box_reg: 0.1033 (0.1011)  time: 1.5034  data: 0.0278  max mem: 7303\n",
      "Epoch: [2]  [200/479]  eta: 0:07:00  lr: 0.000100  loss: 0.9162 (0.7299)  loss_classifier: 0.2637 (0.1700)  loss_box_reg: 0.0459 (0.0305)  loss_objectness: 0.4167 (0.3940)  loss_rpn_box_reg: 0.1593 (0.1354)  time: 1.7533  data: 0.0300  max mem: 7303\n",
      "Epoch: [2]  [300/479]  eta: 0:04:34  lr: 0.000100  loss: 0.6693 (0.7454)  loss_classifier: 0.1003 (0.1728)  loss_box_reg: 0.0134 (0.0314)  loss_objectness: 0.3693 (0.3984)  loss_rpn_box_reg: 0.1437 (0.1428)  time: 1.5382  data: 0.0298  max mem: 7303\n",
      "Epoch: [2]  [400/479]  eta: 0:02:00  lr: 0.000100  loss: 0.8647 (0.7287)  loss_classifier: 0.2635 (0.1706)  loss_box_reg: 0.0473 (0.0314)  loss_objectness: 0.4030 (0.3980)  loss_rpn_box_reg: 0.1347 (0.1287)  time: 1.6022  data: 0.0286  max mem: 7303\n",
      "Epoch: [2]  [478/479]  eta: 0:00:01  lr: 0.000100  loss: 0.7724 (0.7253)  loss_classifier: 0.1487 (0.1643)  loss_box_reg: 0.0133 (0.0298)  loss_objectness: 0.4171 (0.3991)  loss_rpn_box_reg: 0.2134 (0.1322)  time: 1.6263  data: 0.0300  max mem: 7303\n",
      "Epoch: [2] Total time: 0:12:05 (1.5147 s / it)\n",
      "Epoch: [3]  [  0/479]  eta: 0:23:43  lr: 0.000010  loss: 0.4736 (0.4736)  loss_classifier: 0.0528 (0.0528)  loss_box_reg: 0.0059 (0.0059)  loss_objectness: 0.3290 (0.3290)  loss_rpn_box_reg: 0.0858 (0.0858)  time: 2.9715  data: 1.3311  max mem: 7303\n",
      "Epoch: [3]  [100/479]  eta: 0:09:08  lr: 0.000010  loss: 0.6700 (0.6186)  loss_classifier: 0.1477 (0.1099)  loss_box_reg: 0.0336 (0.0182)  loss_objectness: 0.3447 (0.3741)  loss_rpn_box_reg: 0.1344 (0.1164)  time: 1.5164  data: 0.0295  max mem: 7303\n",
      "Epoch: [3]  [200/479]  eta: 0:06:58  lr: 0.000010  loss: 0.9235 (0.6975)  loss_classifier: 0.2390 (0.1423)  loss_box_reg: 0.0458 (0.0251)  loss_objectness: 0.4109 (0.3880)  loss_rpn_box_reg: 0.1840 (0.1421)  time: 1.7456  data: 0.0293  max mem: 7303\n",
      "Epoch: [3]  [300/479]  eta: 0:04:33  lr: 0.000010  loss: 0.7647 (0.7224)  loss_classifier: 0.1369 (0.1524)  loss_box_reg: 0.0167 (0.0272)  loss_objectness: 0.3811 (0.3961)  loss_rpn_box_reg: 0.1474 (0.1467)  time: 1.5591  data: 0.0291  max mem: 7303\n",
      "Epoch: [3]  [400/479]  eta: 0:01:59  lr: 0.000010  loss: 0.7705 (0.7006)  loss_classifier: 0.1872 (0.1494)  loss_box_reg: 0.0307 (0.0272)  loss_objectness: 0.3704 (0.3902)  loss_rpn_box_reg: 0.1322 (0.1339)  time: 1.5766  data: 0.0300  max mem: 7303\n",
      "Epoch: [3]  [478/479]  eta: 0:00:01  lr: 0.000010  loss: 0.7156 (0.6919)  loss_classifier: 0.1549 (0.1424)  loss_box_reg: 0.0200 (0.0253)  loss_objectness: 0.3960 (0.3897)  loss_rpn_box_reg: 0.1468 (0.1345)  time: 1.6329  data: 0.0300  max mem: 7303\n",
      "Epoch: [3] Total time: 0:12:01 (1.5064 s / it)\n",
      "Epoch: [4]  [  0/479]  eta: 0:21:27  lr: 0.000010  loss: 0.4319 (0.4319)  loss_classifier: 0.0656 (0.0656)  loss_box_reg: 0.0063 (0.0063)  loss_objectness: 0.3111 (0.3111)  loss_rpn_box_reg: 0.0490 (0.0490)  time: 2.6869  data: 1.2074  max mem: 7303\n",
      "Epoch: [4]  [100/479]  eta: 0:09:11  lr: 0.000010  loss: 0.6660 (0.5771)  loss_classifier: 0.1680 (0.1097)  loss_box_reg: 0.0322 (0.0166)  loss_objectness: 0.3149 (0.3600)  loss_rpn_box_reg: 0.1009 (0.0907)  time: 1.5051  data: 0.0281  max mem: 7303\n",
      "Epoch: [4]  [200/479]  eta: 0:07:01  lr: 0.000010  loss: 0.9294 (0.6677)  loss_classifier: 0.3007 (0.1487)  loss_box_reg: 0.0592 (0.0251)  loss_objectness: 0.4124 (0.3735)  loss_rpn_box_reg: 0.1635 (0.1204)  time: 1.7750  data: 0.0312  max mem: 7303\n",
      "Epoch: [4]  [300/479]  eta: 0:04:35  lr: 0.000010  loss: 0.7146 (0.7088)  loss_classifier: 0.1612 (0.1654)  loss_box_reg: 0.0286 (0.0295)  loss_objectness: 0.3777 (0.3849)  loss_rpn_box_reg: 0.1424 (0.1291)  time: 1.5487  data: 0.0291  max mem: 7303\n",
      "Epoch: [4]  [400/479]  eta: 0:02:01  lr: 0.000010  loss: 0.7413 (0.6898)  loss_classifier: 0.1879 (0.1614)  loss_box_reg: 0.0332 (0.0287)  loss_objectness: 0.3702 (0.3816)  loss_rpn_box_reg: 0.1354 (0.1181)  time: 1.6391  data: 0.0298  max mem: 7303\n",
      "Epoch: [4]  [478/479]  eta: 0:00:01  lr: 0.000010  loss: 0.6932 (0.6889)  loss_classifier: 0.1568 (0.1570)  loss_box_reg: 0.0254 (0.0276)  loss_objectness: 0.3723 (0.3826)  loss_rpn_box_reg: 0.1446 (0.1217)  time: 1.6383  data: 0.0291  max mem: 7303\n",
      "Epoch: [4] Total time: 0:12:09 (1.5225 s / it)\n",
      "Epoch: [5]  [  0/479]  eta: 0:21:18  lr: 0.000010  loss: 0.4914 (0.4914)  loss_classifier: 0.1036 (0.1036)  loss_box_reg: 0.0166 (0.0166)  loss_objectness: 0.3253 (0.3253)  loss_rpn_box_reg: 0.0458 (0.0458)  time: 2.6696  data: 1.1054  max mem: 7303\n",
      "Epoch: [5]  [100/479]  eta: 0:09:16  lr: 0.000010  loss: 0.6651 (0.5807)  loss_classifier: 0.1800 (0.1146)  loss_box_reg: 0.0251 (0.0149)  loss_objectness: 0.3283 (0.3588)  loss_rpn_box_reg: 0.1013 (0.0923)  time: 1.5158  data: 0.0284  max mem: 7303\n"
     ]
    },
    {
     "name": "stdout",
     "output_type": "stream",
     "text": [
      "Epoch: [5]  [200/479]  eta: 0:07:02  lr: 0.000010  loss: 0.9306 (0.6612)  loss_classifier: 0.2812 (0.1485)  loss_box_reg: 0.0479 (0.0225)  loss_objectness: 0.4028 (0.3711)  loss_rpn_box_reg: 0.1642 (0.1192)  time: 1.7379  data: 0.0295  max mem: 7303\n",
      "Epoch: [5]  [300/479]  eta: 0:04:36  lr: 0.000010  loss: 0.7179 (0.7050)  loss_classifier: 0.1459 (0.1645)  loss_box_reg: 0.0248 (0.0288)  loss_objectness: 0.3582 (0.3828)  loss_rpn_box_reg: 0.1418 (0.1289)  time: 1.5902  data: 0.0294  max mem: 7303\n",
      "Epoch: [5]  [400/479]  eta: 0:02:01  lr: 0.000010  loss: 0.7067 (0.6889)  loss_classifier: 0.1672 (0.1622)  loss_box_reg: 0.0266 (0.0282)  loss_objectness: 0.3655 (0.3808)  loss_rpn_box_reg: 0.1358 (0.1178)  time: 1.6311  data: 0.0315  max mem: 7303\n",
      "Epoch: [5]  [478/479]  eta: 0:00:01  lr: 0.000010  loss: 0.6901 (0.6888)  loss_classifier: 0.1549 (0.1583)  loss_box_reg: 0.0308 (0.0271)  loss_objectness: 0.3779 (0.3822)  loss_rpn_box_reg: 0.1449 (0.1213)  time: 1.6568  data: 0.0296  max mem: 7303\n",
      "Epoch: [5] Total time: 0:12:09 (1.5221 s / it)\n",
      "Epoch: [6]  [  0/479]  eta: 0:24:25  lr: 0.000001  loss: 0.4799 (0.4799)  loss_classifier: 0.1260 (0.1260)  loss_box_reg: 0.0144 (0.0144)  loss_objectness: 0.2956 (0.2956)  loss_rpn_box_reg: 0.0439 (0.0439)  time: 3.0598  data: 1.1866  max mem: 7303\n",
      "Epoch: [6]  [100/479]  eta: 0:09:12  lr: 0.000001  loss: 0.6241 (0.5929)  loss_classifier: 0.1648 (0.1247)  loss_box_reg: 0.0224 (0.0157)  loss_objectness: 0.3190 (0.3583)  loss_rpn_box_reg: 0.1042 (0.0942)  time: 1.5080  data: 0.0312  max mem: 7303\n",
      "Epoch: [6]  [200/479]  eta: 0:07:01  lr: 0.000001  loss: 0.8923 (0.6629)  loss_classifier: 0.2767 (0.1497)  loss_box_reg: 0.0479 (0.0222)  loss_objectness: 0.4044 (0.3718)  loss_rpn_box_reg: 0.1547 (0.1192)  time: 1.7850  data: 0.0295  max mem: 7303\n",
      "Epoch: [6]  [300/479]  eta: 0:04:35  lr: 0.000001  loss: 0.6927 (0.7014)  loss_classifier: 0.1439 (0.1634)  loss_box_reg: 0.0257 (0.0273)  loss_objectness: 0.3739 (0.3837)  loss_rpn_box_reg: 0.1394 (0.1270)  time: 1.5375  data: 0.0294  max mem: 7303\n",
      "Epoch: [6]  [400/479]  eta: 0:02:01  lr: 0.000001  loss: 0.7174 (0.6806)  loss_classifier: 0.1431 (0.1583)  loss_box_reg: 0.0220 (0.0251)  loss_objectness: 0.3813 (0.3799)  loss_rpn_box_reg: 0.1396 (0.1174)  time: 1.6324  data: 0.0276  max mem: 7303\n",
      "Epoch: [6]  [478/479]  eta: 0:00:01  lr: 0.000001  loss: 0.6609 (0.6777)  loss_classifier: 0.1507 (0.1532)  loss_box_reg: 0.0195 (0.0241)  loss_objectness: 0.3787 (0.3806)  loss_rpn_box_reg: 0.1485 (0.1198)  time: 1.6312  data: 0.0311  max mem: 7303\n",
      "Epoch: [6] Total time: 0:12:09 (1.5220 s / it)\n",
      "Epoch: [7]  [  0/479]  eta: 0:21:36  lr: 0.000001  loss: 0.4864 (0.4864)  loss_classifier: 0.1039 (0.1039)  loss_box_reg: 0.0178 (0.0178)  loss_objectness: 0.3206 (0.3206)  loss_rpn_box_reg: 0.0441 (0.0441)  time: 2.7076  data: 1.1738  max mem: 7303\n",
      "Epoch: [7]  [100/479]  eta: 0:09:14  lr: 0.000001  loss: 0.6048 (0.5836)  loss_classifier: 0.1635 (0.1161)  loss_box_reg: 0.0223 (0.0156)  loss_objectness: 0.3400 (0.3578)  loss_rpn_box_reg: 0.1041 (0.0941)  time: 1.5118  data: 0.0318  max mem: 7303\n",
      "Epoch: [7]  [200/479]  eta: 0:07:02  lr: 0.000001  loss: 0.8981 (0.6557)  loss_classifier: 0.2715 (0.1436)  loss_box_reg: 0.0490 (0.0217)  loss_objectness: 0.3968 (0.3715)  loss_rpn_box_reg: 0.1525 (0.1189)  time: 1.7288  data: 0.0309  max mem: 7303\n",
      "Epoch: [7]  [300/479]  eta: 0:04:37  lr: 0.000001  loss: 0.6863 (0.6942)  loss_classifier: 0.1413 (0.1577)  loss_box_reg: 0.0233 (0.0265)  loss_objectness: 0.3789 (0.3834)  loss_rpn_box_reg: 0.1353 (0.1266)  time: 1.5525  data: 0.0300  max mem: 7303\n",
      "Epoch: [7]  [400/479]  eta: 0:02:01  lr: 0.000001  loss: 0.6997 (0.6738)  loss_classifier: 0.1385 (0.1532)  loss_box_reg: 0.0204 (0.0243)  loss_objectness: 0.3775 (0.3795)  loss_rpn_box_reg: 0.1392 (0.1168)  time: 1.5846  data: 0.0316  max mem: 7303\n",
      "Epoch: [7]  [478/479]  eta: 0:00:01  lr: 0.000001  loss: 0.6482 (0.6716)  loss_classifier: 0.1496 (0.1485)  loss_box_reg: 0.0176 (0.0233)  loss_objectness: 0.3737 (0.3804)  loss_rpn_box_reg: 0.1507 (0.1194)  time: 1.6110  data: 0.0292  max mem: 7303\n",
      "Epoch: [7] Total time: 0:12:08 (1.5205 s / it)\n",
      "Epoch: [8]  [  0/479]  eta: 0:21:33  lr: 0.000001  loss: 0.4821 (0.4821)  loss_classifier: 0.1073 (0.1073)  loss_box_reg: 0.0207 (0.0207)  loss_objectness: 0.3096 (0.3096)  loss_rpn_box_reg: 0.0446 (0.0446)  time: 2.7001  data: 1.1898  max mem: 7303\n",
      "Epoch: [8]  [100/479]  eta: 0:09:13  lr: 0.000001  loss: 0.6247 (0.5822)  loss_classifier: 0.1578 (0.1144)  loss_box_reg: 0.0215 (0.0155)  loss_objectness: 0.3255 (0.3583)  loss_rpn_box_reg: 0.1035 (0.0940)  time: 1.5122  data: 0.0294  max mem: 7303\n",
      "Epoch: [8]  [200/479]  eta: 0:07:02  lr: 0.000001  loss: 0.8887 (0.6520)  loss_classifier: 0.2744 (0.1414)  loss_box_reg: 0.0457 (0.0213)  loss_objectness: 0.4109 (0.3705)  loss_rpn_box_reg: 0.1529 (0.1188)  time: 1.7963  data: 0.0292  max mem: 7303\n",
      "Epoch: [8]  [300/479]  eta: 0:04:35  lr: 0.000001  loss: 0.6726 (0.6907)  loss_classifier: 0.1432 (0.1556)  loss_box_reg: 0.0205 (0.0262)  loss_objectness: 0.3761 (0.3824)  loss_rpn_box_reg: 0.1386 (0.1264)  time: 1.5317  data: 0.0296  max mem: 7303\n",
      "Epoch: [8]  [400/479]  eta: 0:02:01  lr: 0.000001  loss: 0.6939 (0.6703)  loss_classifier: 0.1387 (0.1511)  loss_box_reg: 0.0214 (0.0239)  loss_objectness: 0.3654 (0.3788)  loss_rpn_box_reg: 0.1392 (0.1165)  time: 1.6058  data: 0.0284  max mem: 7303\n",
      "Epoch: [8]  [478/479]  eta: 0:00:01  lr: 0.000001  loss: 0.6493 (0.6686)  loss_classifier: 0.1463 (0.1463)  loss_box_reg: 0.0176 (0.0228)  loss_objectness: 0.3734 (0.3802)  loss_rpn_box_reg: 0.1493 (0.1192)  time: 1.6288  data: 0.0298  max mem: 7303\n",
      "Epoch: [8] Total time: 0:12:08 (1.5207 s / it)\n",
      "Epoch: [9]  [  0/479]  eta: 0:22:16  lr: 0.000000  loss: 0.4747 (0.4747)  loss_classifier: 0.1061 (0.1061)  loss_box_reg: 0.0205 (0.0205)  loss_objectness: 0.3035 (0.3035)  loss_rpn_box_reg: 0.0448 (0.0448)  time: 2.7904  data: 1.3429  max mem: 7303\n",
      "Epoch: [9]  [100/479]  eta: 0:09:17  lr: 0.000000  loss: 0.6043 (0.5774)  loss_classifier: 0.1517 (0.1121)  loss_box_reg: 0.0231 (0.0152)  loss_objectness: 0.3260 (0.3555)  loss_rpn_box_reg: 0.1049 (0.0947)  time: 1.5513  data: 0.0321  max mem: 7303\n",
      "Epoch: [9]  [200/479]  eta: 0:07:03  lr: 0.000000  loss: 0.8838 (0.6489)  loss_classifier: 0.2728 (0.1395)  loss_box_reg: 0.0431 (0.0209)  loss_objectness: 0.4031 (0.3698)  loss_rpn_box_reg: 0.1461 (0.1186)  time: 1.7741  data: 0.0308  max mem: 7303\n",
      "Epoch: [9]  [300/479]  eta: 0:04:36  lr: 0.000000  loss: 0.6805 (0.6910)  loss_classifier: 0.1541 (0.1565)  loss_box_reg: 0.0225 (0.0262)  loss_objectness: 0.3694 (0.3822)  loss_rpn_box_reg: 0.1341 (0.1261)  time: 1.5990  data: 0.0311  max mem: 7303\n",
      "Epoch: [9]  [400/479]  eta: 0:02:01  lr: 0.000000  loss: 0.7051 (0.6686)  loss_classifier: 0.1400 (0.1506)  loss_box_reg: 0.0213 (0.0238)  loss_objectness: 0.3737 (0.3784)  loss_rpn_box_reg: 0.1371 (0.1158)  time: 1.6008  data: 0.0284  max mem: 7303\n",
      "Epoch: [9]  [478/479]  eta: 0:00:01  lr: 0.000000  loss: 0.6523 (0.6661)  loss_classifier: 0.1466 (0.1455)  loss_box_reg: 0.0173 (0.0227)  loss_objectness: 0.3869 (0.3796)  loss_rpn_box_reg: 0.1481 (0.1183)  time: 1.6264  data: 0.0309  max mem: 7303\n",
      "Epoch: [9] Total time: 0:12:10 (1.5244 s / it)\n",
      "Epoch: [10]  [  0/479]  eta: 0:22:02  lr: 0.000000  loss: 0.4777 (0.4777)  loss_classifier: 0.1079 (0.1079)  loss_box_reg: 0.0205 (0.0205)  loss_objectness: 0.3046 (0.3046)  loss_rpn_box_reg: 0.0447 (0.0447)  time: 2.7617  data: 1.2451  max mem: 7303\n",
      "Epoch: [10]  [100/479]  eta: 0:09:04  lr: 0.000000  loss: 0.5995 (0.5785)  loss_classifier: 0.1520 (0.1121)  loss_box_reg: 0.0215 (0.0150)  loss_objectness: 0.3170 (0.3569)  loss_rpn_box_reg: 0.1039 (0.0945)  time: 1.4824  data: 0.0297  max mem: 7303\n",
      "Epoch: [10]  [200/479]  eta: 0:06:57  lr: 0.000000  loss: 0.8839 (0.6474)  loss_classifier: 0.2689 (0.1389)  loss_box_reg: 0.0428 (0.0208)  loss_objectness: 0.4057 (0.3690)  loss_rpn_box_reg: 0.1508 (0.1187)  time: 1.7733  data: 0.0295  max mem: 7303\n",
      "Epoch: [10]  [300/479]  eta: 0:04:33  lr: 0.000000  loss: 0.6881 (0.6893)  loss_classifier: 0.1482 (0.1555)  loss_box_reg: 0.0207 (0.0261)  loss_objectness: 0.3801 (0.3816)  loss_rpn_box_reg: 0.1364 (0.1261)  time: 1.5638  data: 0.0296  max mem: 7303\n"
     ]
    },
    {
     "name": "stdout",
     "output_type": "stream",
     "text": [
      "Epoch: [10]  [400/479]  eta: 0:02:00  lr: 0.000000  loss: 0.6893 (0.6672)  loss_classifier: 0.1402 (0.1499)  loss_box_reg: 0.0201 (0.0237)  loss_objectness: 0.3665 (0.3779)  loss_rpn_box_reg: 0.1368 (0.1158)  time: 1.6079  data: 0.0294  max mem: 7303\n",
      "Epoch: [10]  [478/479]  eta: 0:00:01  lr: 0.000000  loss: 0.6418 (0.6648)  loss_classifier: 0.1461 (0.1449)  loss_box_reg: 0.0174 (0.0226)  loss_objectness: 0.3786 (0.3790)  loss_rpn_box_reg: 0.1487 (0.1184)  time: 1.6244  data: 0.0303  max mem: 7303\n",
      "Epoch: [10] Total time: 0:12:03 (1.5111 s / it)\n",
      "Epoch: [11]  [  0/479]  eta: 0:23:20  lr: 0.000000  loss: 0.4833 (0.4833)  loss_classifier: 0.1087 (0.1087)  loss_box_reg: 0.0205 (0.0205)  loss_objectness: 0.3093 (0.3093)  loss_rpn_box_reg: 0.0447 (0.0447)  time: 2.9236  data: 1.4080  max mem: 7303\n",
      "Epoch: [11]  [100/479]  eta: 0:09:12  lr: 0.000000  loss: 0.6081 (0.5778)  loss_classifier: 0.1507 (0.1121)  loss_box_reg: 0.0205 (0.0149)  loss_objectness: 0.3192 (0.3566)  loss_rpn_box_reg: 0.1037 (0.0942)  time: 1.5063  data: 0.0293  max mem: 7303\n",
      "Epoch: [11]  [200/479]  eta: 0:07:01  lr: 0.000000  loss: 0.8804 (0.6464)  loss_classifier: 0.2678 (0.1386)  loss_box_reg: 0.0418 (0.0207)  loss_objectness: 0.4056 (0.3688)  loss_rpn_box_reg: 0.1473 (0.1182)  time: 1.7594  data: 0.0306  max mem: 7303\n",
      "Epoch: [11]  [300/479]  eta: 0:04:35  lr: 0.000000  loss: 0.6850 (0.6891)  loss_classifier: 0.1481 (0.1550)  loss_box_reg: 0.0207 (0.0260)  loss_objectness: 0.3806 (0.3821)  loss_rpn_box_reg: 0.1360 (0.1259)  time: 1.5415  data: 0.0301  max mem: 7303\n",
      "Epoch: [11]  [400/479]  eta: 0:02:00  lr: 0.000000  loss: 0.7053 (0.6674)  loss_classifier: 0.1396 (0.1495)  loss_box_reg: 0.0201 (0.0236)  loss_objectness: 0.3596 (0.3788)  loss_rpn_box_reg: 0.1366 (0.1156)  time: 1.6322  data: 0.0271  max mem: 7303\n",
      "Epoch: [11]  [478/479]  eta: 0:00:01  lr: 0.000000  loss: 0.6485 (0.6654)  loss_classifier: 0.1466 (0.1446)  loss_box_reg: 0.0174 (0.0225)  loss_objectness: 0.3744 (0.3802)  loss_rpn_box_reg: 0.1479 (0.1182)  time: 1.6241  data: 0.0285  max mem: 7303\n",
      "Epoch: [11] Total time: 0:12:06 (1.5177 s / it)\n",
      "Epoch: [12]  [  0/479]  eta: 0:22:23  lr: 0.000000  loss: 0.4669 (0.4669)  loss_classifier: 0.1078 (0.1078)  loss_box_reg: 0.0206 (0.0206)  loss_objectness: 0.2938 (0.2938)  loss_rpn_box_reg: 0.0447 (0.0447)  time: 2.8039  data: 1.2828  max mem: 7303\n",
      "Epoch: [12]  [100/479]  eta: 0:09:10  lr: 0.000000  loss: 0.6260 (0.5774)  loss_classifier: 0.1504 (0.1117)  loss_box_reg: 0.0196 (0.0149)  loss_objectness: 0.3348 (0.3568)  loss_rpn_box_reg: 0.1033 (0.0940)  time: 1.4955  data: 0.0275  max mem: 7303\n",
      "Epoch: [12]  [200/479]  eta: 0:07:02  lr: 0.000000  loss: 0.8755 (0.6463)  loss_classifier: 0.2650 (0.1381)  loss_box_reg: 0.0424 (0.0207)  loss_objectness: 0.4079 (0.3694)  loss_rpn_box_reg: 0.1511 (0.1181)  time: 1.8054  data: 0.0307  max mem: 7303\n",
      "Epoch: [12]  [300/479]  eta: 0:04:36  lr: 0.000000  loss: 0.6910 (0.6888)  loss_classifier: 0.1489 (0.1550)  loss_box_reg: 0.0210 (0.0260)  loss_objectness: 0.3734 (0.3819)  loss_rpn_box_reg: 0.1368 (0.1259)  time: 1.5582  data: 0.0287  max mem: 7303\n",
      "Epoch: [12]  [400/479]  eta: 0:02:00  lr: 0.000000  loss: 0.6924 (0.6670)  loss_classifier: 0.1394 (0.1493)  loss_box_reg: 0.0203 (0.0235)  loss_objectness: 0.3726 (0.3787)  loss_rpn_box_reg: 0.1368 (0.1156)  time: 1.5730  data: 0.0300  max mem: 7303\n",
      "Epoch: [12]  [478/479]  eta: 0:00:01  lr: 0.000000  loss: 0.6468 (0.6646)  loss_classifier: 0.1455 (0.1443)  loss_box_reg: 0.0174 (0.0224)  loss_objectness: 0.3751 (0.3797)  loss_rpn_box_reg: 0.1488 (0.1182)  time: 1.6710  data: 0.0323  max mem: 7303\n",
      "Epoch: [12] Total time: 0:12:06 (1.5174 s / it)\n",
      "Epoch: [13]  [  0/479]  eta: 0:22:07  lr: 0.000000  loss: 0.4600 (0.4600)  loss_classifier: 0.1090 (0.1090)  loss_box_reg: 0.0206 (0.0206)  loss_objectness: 0.2857 (0.2857)  loss_rpn_box_reg: 0.0447 (0.0447)  time: 2.7722  data: 1.2481  max mem: 7303\n",
      "Epoch: [13]  [100/479]  eta: 0:09:12  lr: 0.000000  loss: 0.6196 (0.5779)  loss_classifier: 0.1505 (0.1117)  loss_box_reg: 0.0196 (0.0149)  loss_objectness: 0.3283 (0.3571)  loss_rpn_box_reg: 0.1033 (0.0942)  time: 1.4856  data: 0.0298  max mem: 7303\n",
      "Epoch: [13]  [200/479]  eta: 0:07:04  lr: 0.000000  loss: 0.8738 (0.6477)  loss_classifier: 0.2661 (0.1381)  loss_box_reg: 0.0424 (0.0207)  loss_objectness: 0.4099 (0.3707)  loss_rpn_box_reg: 0.1460 (0.1183)  time: 1.8202  data: 0.0313  max mem: 7303\n",
      "Epoch: [13]  [300/479]  eta: 0:04:37  lr: 0.000000  loss: 0.6792 (0.6901)  loss_classifier: 0.1482 (0.1549)  loss_box_reg: 0.0210 (0.0260)  loss_objectness: 0.3659 (0.3832)  loss_rpn_box_reg: 0.1371 (0.1260)  time: 1.6131  data: 0.0309  max mem: 7303\n",
      "Epoch: [13]  [400/479]  eta: 0:02:01  lr: 0.000000  loss: 0.6902 (0.6677)  loss_classifier: 0.1385 (0.1492)  loss_box_reg: 0.0203 (0.0235)  loss_objectness: 0.3642 (0.3793)  loss_rpn_box_reg: 0.1368 (0.1157)  time: 1.6230  data: 0.0294  max mem: 7303\n",
      "Epoch: [13]  [478/479]  eta: 0:00:01  lr: 0.000000  loss: 0.6626 (0.6650)  loss_classifier: 0.1455 (0.1443)  loss_box_reg: 0.0174 (0.0224)  loss_objectness: 0.3766 (0.3800)  loss_rpn_box_reg: 0.1491 (0.1183)  time: 1.6252  data: 0.0308  max mem: 7303\n",
      "Epoch: [13] Total time: 0:12:12 (1.5288 s / it)\n",
      "Epoch: [14]  [  0/479]  eta: 0:23:25  lr: 0.000000  loss: 0.4702 (0.4702)  loss_classifier: 0.1082 (0.1082)  loss_box_reg: 0.0206 (0.0206)  loss_objectness: 0.2968 (0.2968)  loss_rpn_box_reg: 0.0447 (0.0447)  time: 2.9349  data: 1.2584  max mem: 7303\n",
      "Epoch: [14]  [100/479]  eta: 0:09:08  lr: 0.000000  loss: 0.6095 (0.5760)  loss_classifier: 0.1491 (0.1119)  loss_box_reg: 0.0196 (0.0149)  loss_objectness: 0.3201 (0.3551)  loss_rpn_box_reg: 0.1033 (0.0942)  time: 1.4434  data: 0.0302  max mem: 7303\n",
      "Epoch: [14]  [200/479]  eta: 0:07:02  lr: 0.000000  loss: 0.8603 (0.6459)  loss_classifier: 0.2657 (0.1381)  loss_box_reg: 0.0424 (0.0207)  loss_objectness: 0.4023 (0.3688)  loss_rpn_box_reg: 0.1510 (0.1183)  time: 1.8312  data: 0.0307  max mem: 7303\n",
      "Epoch: [14]  [300/479]  eta: 0:04:36  lr: 0.000000  loss: 0.6847 (0.6880)  loss_classifier: 0.1477 (0.1550)  loss_box_reg: 0.0210 (0.0260)  loss_objectness: 0.3751 (0.3812)  loss_rpn_box_reg: 0.1369 (0.1259)  time: 1.6019  data: 0.0281  max mem: 7303\n"
     ]
    },
    {
     "ename": "KeyboardInterrupt",
     "evalue": "",
     "output_type": "error",
     "traceback": [
      "\u001b[0;31m\u001b[0m",
      "\u001b[0;31mKeyboardInterrupt\u001b[0mTraceback (most recent call last)",
      "\u001b[0;32m<ipython-input-13-83dc9eb957da>\u001b[0m in \u001b[0;36m<module>\u001b[0;34m\u001b[0m\n\u001b[1;32m      3\u001b[0m \u001b[0;32mfor\u001b[0m \u001b[0mepoch\u001b[0m \u001b[0;32min\u001b[0m \u001b[0mrange\u001b[0m\u001b[0;34m(\u001b[0m\u001b[0mnum_epochs\u001b[0m\u001b[0;34m)\u001b[0m\u001b[0;34m:\u001b[0m\u001b[0;34m\u001b[0m\u001b[0;34m\u001b[0m\u001b[0m\n\u001b[1;32m      4\u001b[0m     \u001b[0;31m# train for one epoch, printing every 10 iterations\u001b[0m\u001b[0;34m\u001b[0m\u001b[0;34m\u001b[0m\u001b[0;34m\u001b[0m\u001b[0m\n\u001b[0;32m----> 5\u001b[0;31m     \u001b[0mtrain_one_epoch_FastRCNN\u001b[0m\u001b[0;34m(\u001b[0m\u001b[0mmodel\u001b[0m\u001b[0;34m,\u001b[0m \u001b[0moptimizer\u001b[0m\u001b[0;34m,\u001b[0m \u001b[0mtrain_data_loader\u001b[0m\u001b[0;34m,\u001b[0m \u001b[0mdevice\u001b[0m\u001b[0;34m,\u001b[0m \u001b[0mepoch\u001b[0m\u001b[0;34m,\u001b[0m \u001b[0mprint_freq\u001b[0m\u001b[0;34m=\u001b[0m\u001b[0;36m100\u001b[0m\u001b[0;34m)\u001b[0m\u001b[0;34m\u001b[0m\u001b[0;34m\u001b[0m\u001b[0m\n\u001b[0m\u001b[1;32m      6\u001b[0m     \u001b[0;31m# update the learning rate\u001b[0m\u001b[0;34m\u001b[0m\u001b[0;34m\u001b[0m\u001b[0;34m\u001b[0m\u001b[0m\n\u001b[1;32m      7\u001b[0m     \u001b[0mlr_scheduler\u001b[0m\u001b[0;34m.\u001b[0m\u001b[0mstep\u001b[0m\u001b[0;34m(\u001b[0m\u001b[0;34m)\u001b[0m\u001b[0;34m\u001b[0m\u001b[0;34m\u001b[0m\u001b[0m\n",
      "\u001b[0;32m/workspace/dl2020/RCNN/CP_helper_RCNN.py\u001b[0m in \u001b[0;36mtrain_one_epoch_FastRCNN\u001b[0;34m(model, optimizer, data_loader, device, epoch, print_freq, panorm)\u001b[0m\n\u001b[1;32m    346\u001b[0m             \u001b[0mimages\u001b[0m \u001b[0;34m=\u001b[0m \u001b[0;34m[\u001b[0m\u001b[0mtt\u001b[0m\u001b[0;34m(\u001b[0m\u001b[0ms\u001b[0m\u001b[0;34m)\u001b[0m\u001b[0;34m.\u001b[0m\u001b[0mto\u001b[0m\u001b[0;34m(\u001b[0m\u001b[0mdevice\u001b[0m\u001b[0;34m)\u001b[0m \u001b[0;32mfor\u001b[0m \u001b[0ms\u001b[0m \u001b[0;32min\u001b[0m \u001b[0msew_images_panorm\u001b[0m\u001b[0;34m(\u001b[0m\u001b[0msample\u001b[0m\u001b[0;34m)\u001b[0m\u001b[0;34m]\u001b[0m\u001b[0;34m\u001b[0m\u001b[0;34m\u001b[0m\u001b[0m\n\u001b[1;32m    347\u001b[0m         \u001b[0;32melse\u001b[0m\u001b[0;34m:\u001b[0m\u001b[0;34m\u001b[0m\u001b[0;34m\u001b[0m\u001b[0m\n\u001b[0;32m--> 348\u001b[0;31m             \u001b[0mimages\u001b[0m \u001b[0;34m=\u001b[0m \u001b[0;34m[\u001b[0m\u001b[0mtt\u001b[0m\u001b[0;34m(\u001b[0m\u001b[0msew_images\u001b[0m\u001b[0;34m(\u001b[0m\u001b[0ms\u001b[0m\u001b[0;34m)\u001b[0m\u001b[0;34m)\u001b[0m\u001b[0;34m.\u001b[0m\u001b[0mto\u001b[0m\u001b[0;34m(\u001b[0m\u001b[0mdevice\u001b[0m\u001b[0;34m)\u001b[0m \u001b[0;32mfor\u001b[0m \u001b[0ms\u001b[0m \u001b[0;32min\u001b[0m \u001b[0msample\u001b[0m\u001b[0;34m]\u001b[0m \u001b[0;31m#list of [3, 800, 800], should be 1 per patch\u001b[0m\u001b[0;34m\u001b[0m\u001b[0;34m\u001b[0m\u001b[0m\n\u001b[0m\u001b[1;32m    349\u001b[0m         \u001b[0mtargets\u001b[0m \u001b[0;34m=\u001b[0m \u001b[0;34m[\u001b[0m\u001b[0;34m{\u001b[0m\u001b[0mk\u001b[0m\u001b[0;34m:\u001b[0m \u001b[0mv\u001b[0m\u001b[0;34m.\u001b[0m\u001b[0mto\u001b[0m\u001b[0;34m(\u001b[0m\u001b[0mdevice\u001b[0m\u001b[0;34m)\u001b[0m \u001b[0;32mfor\u001b[0m \u001b[0mk\u001b[0m\u001b[0;34m,\u001b[0m \u001b[0mv\u001b[0m \u001b[0;32min\u001b[0m \u001b[0mt\u001b[0m\u001b[0;34m.\u001b[0m\u001b[0mitems\u001b[0m\u001b[0;34m(\u001b[0m\u001b[0;34m)\u001b[0m\u001b[0;34m}\u001b[0m \u001b[0;32mfor\u001b[0m \u001b[0mt\u001b[0m \u001b[0;32min\u001b[0m \u001b[0mtargets\u001b[0m\u001b[0;34m]\u001b[0m\u001b[0;34m\u001b[0m\u001b[0;34m\u001b[0m\u001b[0m\n\u001b[1;32m    350\u001b[0m \u001b[0;34m\u001b[0m\u001b[0m\n",
      "\u001b[0;32m/workspace/dl2020/RCNN/CP_helper_RCNN.py\u001b[0m in \u001b[0;36m<listcomp>\u001b[0;34m(.0)\u001b[0m\n\u001b[1;32m    346\u001b[0m             \u001b[0mimages\u001b[0m \u001b[0;34m=\u001b[0m \u001b[0;34m[\u001b[0m\u001b[0mtt\u001b[0m\u001b[0;34m(\u001b[0m\u001b[0ms\u001b[0m\u001b[0;34m)\u001b[0m\u001b[0;34m.\u001b[0m\u001b[0mto\u001b[0m\u001b[0;34m(\u001b[0m\u001b[0mdevice\u001b[0m\u001b[0;34m)\u001b[0m \u001b[0;32mfor\u001b[0m \u001b[0ms\u001b[0m \u001b[0;32min\u001b[0m \u001b[0msew_images_panorm\u001b[0m\u001b[0;34m(\u001b[0m\u001b[0msample\u001b[0m\u001b[0;34m)\u001b[0m\u001b[0;34m]\u001b[0m\u001b[0;34m\u001b[0m\u001b[0;34m\u001b[0m\u001b[0m\n\u001b[1;32m    347\u001b[0m         \u001b[0;32melse\u001b[0m\u001b[0;34m:\u001b[0m\u001b[0;34m\u001b[0m\u001b[0;34m\u001b[0m\u001b[0m\n\u001b[0;32m--> 348\u001b[0;31m             \u001b[0mimages\u001b[0m \u001b[0;34m=\u001b[0m \u001b[0;34m[\u001b[0m\u001b[0mtt\u001b[0m\u001b[0;34m(\u001b[0m\u001b[0msew_images\u001b[0m\u001b[0;34m(\u001b[0m\u001b[0ms\u001b[0m\u001b[0;34m)\u001b[0m\u001b[0;34m)\u001b[0m\u001b[0;34m.\u001b[0m\u001b[0mto\u001b[0m\u001b[0;34m(\u001b[0m\u001b[0mdevice\u001b[0m\u001b[0;34m)\u001b[0m \u001b[0;32mfor\u001b[0m \u001b[0ms\u001b[0m \u001b[0;32min\u001b[0m \u001b[0msample\u001b[0m\u001b[0;34m]\u001b[0m \u001b[0;31m#list of [3, 800, 800], should be 1 per patch\u001b[0m\u001b[0;34m\u001b[0m\u001b[0;34m\u001b[0m\u001b[0m\n\u001b[0m\u001b[1;32m    349\u001b[0m         \u001b[0mtargets\u001b[0m \u001b[0;34m=\u001b[0m \u001b[0;34m[\u001b[0m\u001b[0;34m{\u001b[0m\u001b[0mk\u001b[0m\u001b[0;34m:\u001b[0m \u001b[0mv\u001b[0m\u001b[0;34m.\u001b[0m\u001b[0mto\u001b[0m\u001b[0;34m(\u001b[0m\u001b[0mdevice\u001b[0m\u001b[0;34m)\u001b[0m \u001b[0;32mfor\u001b[0m \u001b[0mk\u001b[0m\u001b[0;34m,\u001b[0m \u001b[0mv\u001b[0m \u001b[0;32min\u001b[0m \u001b[0mt\u001b[0m\u001b[0;34m.\u001b[0m\u001b[0mitems\u001b[0m\u001b[0;34m(\u001b[0m\u001b[0;34m)\u001b[0m\u001b[0;34m}\u001b[0m \u001b[0;32mfor\u001b[0m \u001b[0mt\u001b[0m \u001b[0;32min\u001b[0m \u001b[0mtargets\u001b[0m\u001b[0;34m]\u001b[0m\u001b[0;34m\u001b[0m\u001b[0;34m\u001b[0m\u001b[0m\n\u001b[1;32m    350\u001b[0m \u001b[0;34m\u001b[0m\u001b[0m\n",
      "\u001b[0;32m~/miniconda/envs/gpu/lib/python3.7/site-packages/torchvision/transforms/transforms.py\u001b[0m in \u001b[0;36m__call__\u001b[0;34m(self, img)\u001b[0m\n\u001b[1;32m     68\u001b[0m     \u001b[0;32mdef\u001b[0m \u001b[0m__call__\u001b[0m\u001b[0;34m(\u001b[0m\u001b[0mself\u001b[0m\u001b[0;34m,\u001b[0m \u001b[0mimg\u001b[0m\u001b[0;34m)\u001b[0m\u001b[0;34m:\u001b[0m\u001b[0;34m\u001b[0m\u001b[0;34m\u001b[0m\u001b[0m\n\u001b[1;32m     69\u001b[0m         \u001b[0;32mfor\u001b[0m \u001b[0mt\u001b[0m \u001b[0;32min\u001b[0m \u001b[0mself\u001b[0m\u001b[0;34m.\u001b[0m\u001b[0mtransforms\u001b[0m\u001b[0;34m:\u001b[0m\u001b[0;34m\u001b[0m\u001b[0;34m\u001b[0m\u001b[0m\n\u001b[0;32m---> 70\u001b[0;31m             \u001b[0mimg\u001b[0m \u001b[0;34m=\u001b[0m \u001b[0mt\u001b[0m\u001b[0;34m(\u001b[0m\u001b[0mimg\u001b[0m\u001b[0;34m)\u001b[0m\u001b[0;34m\u001b[0m\u001b[0;34m\u001b[0m\u001b[0m\n\u001b[0m\u001b[1;32m     71\u001b[0m         \u001b[0;32mreturn\u001b[0m \u001b[0mimg\u001b[0m\u001b[0;34m\u001b[0m\u001b[0;34m\u001b[0m\u001b[0m\n\u001b[1;32m     72\u001b[0m \u001b[0;34m\u001b[0m\u001b[0m\n",
      "\u001b[0;32m~/miniconda/envs/gpu/lib/python3.7/site-packages/torchvision/transforms/transforms.py\u001b[0m in \u001b[0;36m__call__\u001b[0;34m(self, img)\u001b[0m\n\u001b[1;32m    205\u001b[0m             \u001b[0mPIL\u001b[0m \u001b[0mImage\u001b[0m\u001b[0;34m:\u001b[0m \u001b[0mRescaled\u001b[0m \u001b[0mimage\u001b[0m\u001b[0;34m.\u001b[0m\u001b[0;34m\u001b[0m\u001b[0;34m\u001b[0m\u001b[0m\n\u001b[1;32m    206\u001b[0m         \"\"\"\n\u001b[0;32m--> 207\u001b[0;31m         \u001b[0;32mreturn\u001b[0m \u001b[0mF\u001b[0m\u001b[0;34m.\u001b[0m\u001b[0mresize\u001b[0m\u001b[0;34m(\u001b[0m\u001b[0mimg\u001b[0m\u001b[0;34m,\u001b[0m \u001b[0mself\u001b[0m\u001b[0;34m.\u001b[0m\u001b[0msize\u001b[0m\u001b[0;34m,\u001b[0m \u001b[0mself\u001b[0m\u001b[0;34m.\u001b[0m\u001b[0minterpolation\u001b[0m\u001b[0;34m)\u001b[0m\u001b[0;34m\u001b[0m\u001b[0;34m\u001b[0m\u001b[0m\n\u001b[0m\u001b[1;32m    208\u001b[0m \u001b[0;34m\u001b[0m\u001b[0m\n\u001b[1;32m    209\u001b[0m     \u001b[0;32mdef\u001b[0m \u001b[0m__repr__\u001b[0m\u001b[0;34m(\u001b[0m\u001b[0mself\u001b[0m\u001b[0;34m)\u001b[0m\u001b[0;34m:\u001b[0m\u001b[0;34m\u001b[0m\u001b[0;34m\u001b[0m\u001b[0m\n",
      "\u001b[0;32m~/miniconda/envs/gpu/lib/python3.7/site-packages/torchvision/transforms/functional.py\u001b[0m in \u001b[0;36mresize\u001b[0;34m(img, size, interpolation)\u001b[0m\n\u001b[1;32m    253\u001b[0m             \u001b[0;32mreturn\u001b[0m \u001b[0mimg\u001b[0m\u001b[0;34m.\u001b[0m\u001b[0mresize\u001b[0m\u001b[0;34m(\u001b[0m\u001b[0;34m(\u001b[0m\u001b[0mow\u001b[0m\u001b[0;34m,\u001b[0m \u001b[0moh\u001b[0m\u001b[0;34m)\u001b[0m\u001b[0;34m,\u001b[0m \u001b[0minterpolation\u001b[0m\u001b[0;34m)\u001b[0m\u001b[0;34m\u001b[0m\u001b[0;34m\u001b[0m\u001b[0m\n\u001b[1;32m    254\u001b[0m     \u001b[0;32melse\u001b[0m\u001b[0;34m:\u001b[0m\u001b[0;34m\u001b[0m\u001b[0;34m\u001b[0m\u001b[0m\n\u001b[0;32m--> 255\u001b[0;31m         \u001b[0;32mreturn\u001b[0m \u001b[0mimg\u001b[0m\u001b[0;34m.\u001b[0m\u001b[0mresize\u001b[0m\u001b[0;34m(\u001b[0m\u001b[0msize\u001b[0m\u001b[0;34m[\u001b[0m\u001b[0;34m:\u001b[0m\u001b[0;34m:\u001b[0m\u001b[0;34m-\u001b[0m\u001b[0;36m1\u001b[0m\u001b[0;34m]\u001b[0m\u001b[0;34m,\u001b[0m \u001b[0minterpolation\u001b[0m\u001b[0;34m)\u001b[0m\u001b[0;34m\u001b[0m\u001b[0;34m\u001b[0m\u001b[0m\n\u001b[0m\u001b[1;32m    256\u001b[0m \u001b[0;34m\u001b[0m\u001b[0m\n\u001b[1;32m    257\u001b[0m \u001b[0;34m\u001b[0m\u001b[0m\n",
      "\u001b[0;32m~/miniconda/envs/gpu/lib/python3.7/site-packages/PIL/Image.py\u001b[0m in \u001b[0;36mresize\u001b[0;34m(self, size, resample, box)\u001b[0m\n\u001b[1;32m   1886\u001b[0m         \u001b[0mself\u001b[0m\u001b[0;34m.\u001b[0m\u001b[0mload\u001b[0m\u001b[0;34m(\u001b[0m\u001b[0;34m)\u001b[0m\u001b[0;34m\u001b[0m\u001b[0;34m\u001b[0m\u001b[0m\n\u001b[1;32m   1887\u001b[0m \u001b[0;34m\u001b[0m\u001b[0m\n\u001b[0;32m-> 1888\u001b[0;31m         \u001b[0;32mreturn\u001b[0m \u001b[0mself\u001b[0m\u001b[0;34m.\u001b[0m\u001b[0m_new\u001b[0m\u001b[0;34m(\u001b[0m\u001b[0mself\u001b[0m\u001b[0;34m.\u001b[0m\u001b[0mim\u001b[0m\u001b[0;34m.\u001b[0m\u001b[0mresize\u001b[0m\u001b[0;34m(\u001b[0m\u001b[0msize\u001b[0m\u001b[0;34m,\u001b[0m \u001b[0mresample\u001b[0m\u001b[0;34m,\u001b[0m \u001b[0mbox\u001b[0m\u001b[0;34m)\u001b[0m\u001b[0;34m)\u001b[0m\u001b[0;34m\u001b[0m\u001b[0;34m\u001b[0m\u001b[0m\n\u001b[0m\u001b[1;32m   1889\u001b[0m \u001b[0;34m\u001b[0m\u001b[0m\n\u001b[1;32m   1890\u001b[0m     def rotate(\n",
      "\u001b[0;31mKeyboardInterrupt\u001b[0m: "
     ]
    },
    {
     "name": "stdout",
     "output_type": "stream",
     "text": [
      "time: 2h 58min 55s\n"
     ]
    }
   ],
   "source": [
    "num_epochs = 20\n",
    "\n",
    "for epoch in range(num_epochs):\n",
    "    # train for one epoch, printing every 10 iterations\n",
    "    train_one_epoch_FastRCNN(model, optimizer, train_data_loader, device, epoch, print_freq=100)\n",
    "    # update the learning rate\n",
    "    lr_scheduler.step()"
   ]
  },
  {
   "cell_type": "code",
   "execution_count": 14,
   "metadata": {},
   "outputs": [
    {
     "name": "stdout",
     "output_type": "stream",
     "text": [
      "time: 624 ms\n"
     ]
    }
   ],
   "source": [
    "\n",
    "\n",
    "torch.save({\n",
    "            'epoch': num_epochs,\n",
    "            'model_state_dict': model.state_dict(),\n",
    "            'optimizer_state_dict': optimizer.state_dict(),\n",
    "            #'loss': loss,\n",
    "            \n",
    "            }, \"../models/fastRCNN_sew614epoch.pt\")"
   ]
  },
  {
   "cell_type": "code",
   "execution_count": 15,
   "metadata": {},
   "outputs": [
    {
     "name": "stdout",
     "output_type": "stream",
     "text": [
      "time: 1.03 s\n"
     ]
    }
   ],
   "source": [
    "#Evaluate on 1 sample\n",
    "\n",
    "for i, (sample, old_targets, road_image, extra) in enumerate(val_data_loader): #, print_freq, header): \n",
    "        \n",
    "        images = [tt(sew_images(s)).to(device) for s in sample] #list of [3, 800, 800], should be 1 per patch\n",
    "        targets = trans_target(old_targets)\n",
    "        \n",
    "        targets = [{k: v.to(device) for k, v in t.items()} for t in targets]\n",
    "        break"
   ]
  },
  {
   "cell_type": "code",
   "execution_count": 16,
   "metadata": {},
   "outputs": [
    {
     "name": "stdout",
     "output_type": "stream",
     "text": [
      "time: 670 ms\n"
     ]
    }
   ],
   "source": [
    "model.eval()\n",
    "with torch.no_grad():\n",
    "     prediction = model(images)"
   ]
  },
  {
   "cell_type": "code",
   "execution_count": 21,
   "metadata": {},
   "outputs": [
    {
     "data": {
      "text/plain": [
       "[{'boxes': tensor([[613.7640, 679.2568, 663.1630, 699.0024],\n",
       "          [532.9646, 694.4006, 582.8264, 713.8063],\n",
       "          [358.1482, 647.7135, 407.5477, 667.7618],\n",
       "          [357.7361, 631.1887, 407.6921, 650.9132],\n",
       "          [277.0364, 710.9747, 326.9579, 730.8698],\n",
       "          [520.1086, 710.7538, 569.8279, 730.9595],\n",
       "          [549.4442, 694.4785, 599.2202, 713.5327],\n",
       "          [694.0197, 646.6371, 742.7462, 666.5207],\n",
       "          [199.8183, 661.8444, 248.4129, 682.3532],\n",
       "          [543.1078, 708.2937, 589.2595, 727.7323],\n",
       "          [487.1221, 710.5396, 536.9730, 730.5803],\n",
       "          [503.6035, 710.8680, 553.5212, 731.2224],\n",
       "          [643.5159, 662.5163, 693.5502, 681.8942],\n",
       "          [423.5380, 646.0087, 473.4097, 666.8774],\n",
       "          [644.9860, 679.5114, 694.8530, 699.1470],\n",
       "          [182.9062, 646.3970, 231.9422, 666.3263],\n",
       "          [390.6836, 614.3486, 440.4083, 634.3798],\n",
       "          [326.1066, 679.1635, 375.1211, 698.8534],\n",
       "          [471.4041, 711.2748, 521.8697, 731.4208],\n",
       "          [552.8428, 711.9133, 602.3635, 731.5263],\n",
       "          [366.9792, 637.7548, 416.0077, 657.8027],\n",
       "          [181.5142, 629.6536, 230.9476, 649.1725],\n",
       "          [439.3069, 678.4357, 488.7222, 699.1089],\n",
       "          [118.4490, 662.2412, 167.9445, 682.2223],\n",
       "          [471.2039, 693.9233, 520.3156, 714.4551],\n",
       "          [710.5917, 646.8171, 758.7916, 666.6013],\n",
       "          [183.9950, 662.0022, 232.8119, 681.7498],\n",
       "          [580.0975, 694.6179, 629.7454, 714.0831],\n",
       "          [184.0060, 678.5090, 232.6973, 697.8835],\n",
       "          [408.1635, 646.0675, 456.4775, 665.7035],\n",
       "          [487.7657, 246.5188, 535.2474, 267.0915],\n",
       "          [339.4123, 663.0135, 390.3824, 682.5584],\n",
       "          [422.7351, 678.9603, 472.9127, 699.4516],\n",
       "          [534.4120, 716.6565, 582.5005, 736.4570],\n",
       "          [567.9233, 708.2919, 613.8818, 728.1603],\n",
       "          [409.0098, 638.5564, 457.3566, 658.2091],\n",
       "          [368.2924, 653.8831, 417.1818, 673.8511],\n",
       "          [375.2792, 645.6829, 423.9751, 665.4446],\n",
       "          [168.1926, 645.2385, 215.6637, 664.9675],\n",
       "          [406.2171, 630.3035, 456.3457, 650.2086],\n",
       "          [135.9551, 710.7687, 183.9384, 729.9365],\n",
       "          [454.0127, 694.2719, 504.3237, 715.0095],\n",
       "          [423.2588, 662.0909, 472.7698, 683.3220],\n",
       "          [453.9604, 230.8095, 502.5366, 251.0448],\n",
       "          [675.9193, 662.2961, 725.8114, 681.9865],\n",
       "          [656.2037, 565.3085, 705.0062, 586.2737],\n",
       "          [657.4920, 684.4269, 704.2040, 704.8865],\n",
       "          [437.8828, 214.2717, 486.7061, 234.9085],\n",
       "          [673.2634, 676.3231, 719.8036, 696.3821],\n",
       "          [136.4898, 694.0010, 184.5510, 713.7544],\n",
       "          [168.3576, 653.8683, 215.4456, 673.5252],\n",
       "          [408.4303, 654.4413, 456.4278, 674.2324],\n",
       "          [135.9713, 678.2084, 185.0193, 698.1789],\n",
       "          [416.0602, 685.8260, 464.2625, 706.3311],\n",
       "          [296.4091, 708.9688, 343.1253, 729.1133],\n",
       "          [117.7670, 630.5610, 167.6888, 650.3746],\n",
       "          [390.4874, 647.3605, 440.9120, 667.1121],\n",
       "          [405.9181, 679.2333, 456.3819, 699.3035],\n",
       "          [375.5214, 630.2534, 424.5316, 650.1278],\n",
       "          [655.5778, 573.6004, 703.6543, 594.2792],\n",
       "          [501.6318, 231.3479, 552.1030, 251.5005],\n",
       "          [469.6830, 230.9073, 519.7709, 250.9832],\n",
       "          [584.9315, 708.6610, 630.0562, 728.7274],\n",
       "          [486.8150, 717.2321, 535.8877, 737.6074],\n",
       "          [453.8052, 711.8212, 505.8191, 732.1040],\n",
       "          [329.8363, 685.4852, 376.3320, 705.7706],\n",
       "          [392.1984, 638.3088, 440.8907, 658.1846],\n",
       "          [169.2876, 694.6658, 217.3426, 714.2814],\n",
       "          [169.3934, 662.3195, 215.5705, 681.4965],\n",
       "          [168.3964, 670.0522, 215.2094, 689.2348],\n",
       "          [404.8998, 727.8834, 456.3926, 748.4211],\n",
       "          [383.6874, 746.6995, 428.8295, 766.2943],\n",
       "          [149.9488, 630.2331, 201.2855, 649.8183],\n",
       "          [118.0180, 646.5995, 167.7229, 666.3621],\n",
       "          [151.6402, 694.6451, 200.1581, 714.3115],\n",
       "          [408.9926, 662.9012, 456.6929, 682.4332],\n",
       "          [305.7513, 694.9402, 357.6109, 714.7213],\n",
       "          [409.1375, 702.9528, 458.5963, 722.7217],\n",
       "          [387.2249, 738.6962, 432.7711, 758.3762],\n",
       "          [408.5607, 670.6414, 456.8437, 690.0250],\n",
       "          [404.2784, 712.5276, 455.9017, 732.4008],\n",
       "          [454.6771, 214.6944, 503.2143, 235.0524],\n",
       "          [168.6426, 711.0475, 217.2762, 730.2016],\n",
       "          [408.5532, 694.9104, 456.6811, 714.8577]], device='cuda:0'),\n",
       "  'labels': tensor([1, 1, 1, 1, 1, 1, 1, 1, 1, 1, 1, 1, 1, 1, 1, 1, 1, 1, 1, 1, 1, 1, 1, 1,\n",
       "          1, 1, 1, 1, 1, 1, 1, 1, 1, 1, 1, 1, 1, 1, 1, 1, 1, 1, 1, 1, 1, 1, 1, 1,\n",
       "          1, 1, 1, 1, 1, 1, 1, 1, 1, 1, 1, 1, 1, 1, 1, 1, 1, 1, 1, 1, 1, 1, 1, 1,\n",
       "          1, 1, 1, 1, 1, 1, 1, 1, 1, 1, 1, 1], device='cuda:0'),\n",
       "  'scores': tensor([0.1427, 0.1116, 0.1096, 0.1085, 0.1080, 0.1039, 0.1034, 0.0992, 0.0980,\n",
       "          0.0973, 0.0949, 0.0946, 0.0919, 0.0874, 0.0870, 0.0841, 0.0835, 0.0815,\n",
       "          0.0809, 0.0794, 0.0782, 0.0781, 0.0779, 0.0747, 0.0745, 0.0724, 0.0714,\n",
       "          0.0710, 0.0698, 0.0686, 0.0682, 0.0666, 0.0665, 0.0662, 0.0659, 0.0656,\n",
       "          0.0651, 0.0649, 0.0644, 0.0632, 0.0631, 0.0629, 0.0621, 0.0621, 0.0617,\n",
       "          0.0615, 0.0613, 0.0611, 0.0610, 0.0609, 0.0601, 0.0600, 0.0594, 0.0584,\n",
       "          0.0583, 0.0574, 0.0569, 0.0568, 0.0564, 0.0562, 0.0557, 0.0556, 0.0551,\n",
       "          0.0548, 0.0546, 0.0539, 0.0539, 0.0537, 0.0535, 0.0533, 0.0531, 0.0529,\n",
       "          0.0528, 0.0522, 0.0522, 0.0514, 0.0513, 0.0510, 0.0508, 0.0507, 0.0506,\n",
       "          0.0506, 0.0506, 0.0504], device='cuda:0')}]"
      ]
     },
     "execution_count": 21,
     "metadata": {},
     "output_type": "execute_result"
    },
    {
     "name": "stdout",
     "output_type": "stream",
     "text": [
      "time: 67.4 ms\n"
     ]
    }
   ],
   "source": [
    "prediction "
   ]
  },
  {
   "cell_type": "code",
   "execution_count": 20,
   "metadata": {},
   "outputs": [
    {
     "data": {
      "text/plain": [
       "{'boxes': tensor([[587.7640, 390.4039, 634.5888, 410.7347],\n",
       "         [723.5701, 494.8876, 770.2949, 515.9766],\n",
       "         [346.5826, 625.2436, 392.2856, 643.8907],\n",
       "         [208.3556, 429.6745, 252.5559, 448.8516],\n",
       "         [103.3553, 430.6902, 147.5497, 449.4175],\n",
       "         [ 31.1752, 463.0602,  79.2614, 483.2730],\n",
       "         [340.5685, 465.9312, 384.6458, 484.8769],\n",
       "         [648.6622, 555.0985, 696.0050, 573.7671],\n",
       "         [496.1005, 585.7907, 541.8034, 604.4378],\n",
       "         [519.1313, 464.6352, 561.6338, 483.1805],\n",
       "         [ 25.9092, 359.7119,  71.8441, 382.5251],\n",
       "         [716.3273, 617.2219, 763.7090, 636.7295],\n",
       "         [321.8503, 425.9930, 395.7314, 448.2401],\n",
       "         [271.5695, 590.2742, 317.2724, 608.9213],\n",
       "         [384.5264, 589.7536, 430.2294, 608.4007],\n",
       "         [ 66.1751, 394.0988, 110.3829, 413.8457],\n",
       "         [256.3764, 392.4210, 300.9099, 411.0828],\n",
       "         [692.8306, 459.0505, 740.1176, 481.0863],\n",
       "         [504.9691, 550.0915, 550.6720, 568.7386],\n",
       "         [ 16.2913, 432.0538,  60.4900, 451.1110]], device='cuda:0'),\n",
       " 'labels': tensor([1, 1, 1, 1, 1, 1, 1, 1, 1, 1, 1, 1, 1, 1, 1, 1, 1, 1, 1, 1],\n",
       "        device='cuda:0'),\n",
       " 'masks': tensor([[[0., 0., 0.,  ..., 0., 0., 0.],\n",
       "          [0., 0., 0.,  ..., 0., 0., 0.],\n",
       "          [0., 0., 0.,  ..., 0., 0., 0.],\n",
       "          ...,\n",
       "          [0., 0., 0.,  ..., 0., 0., 0.],\n",
       "          [0., 0., 0.,  ..., 0., 0., 0.],\n",
       "          [0., 0., 0.,  ..., 0., 0., 0.]],\n",
       " \n",
       "         [[0., 0., 0.,  ..., 0., 0., 0.],\n",
       "          [0., 0., 0.,  ..., 0., 0., 0.],\n",
       "          [0., 0., 0.,  ..., 0., 0., 0.],\n",
       "          ...,\n",
       "          [0., 0., 0.,  ..., 0., 0., 0.],\n",
       "          [0., 0., 0.,  ..., 0., 0., 0.],\n",
       "          [0., 0., 0.,  ..., 0., 0., 0.]],\n",
       " \n",
       "         [[0., 0., 0.,  ..., 0., 0., 0.],\n",
       "          [0., 0., 0.,  ..., 0., 0., 0.],\n",
       "          [0., 0., 0.,  ..., 0., 0., 0.],\n",
       "          ...,\n",
       "          [0., 0., 0.,  ..., 0., 0., 0.],\n",
       "          [0., 0., 0.,  ..., 0., 0., 0.],\n",
       "          [0., 0., 0.,  ..., 0., 0., 0.]],\n",
       " \n",
       "         ...,\n",
       " \n",
       "         [[0., 0., 0.,  ..., 0., 0., 0.],\n",
       "          [0., 0., 0.,  ..., 0., 0., 0.],\n",
       "          [0., 0., 0.,  ..., 0., 0., 0.],\n",
       "          ...,\n",
       "          [0., 0., 0.,  ..., 0., 0., 0.],\n",
       "          [0., 0., 0.,  ..., 0., 0., 0.],\n",
       "          [0., 0., 0.,  ..., 0., 0., 0.]],\n",
       " \n",
       "         [[0., 0., 0.,  ..., 0., 0., 0.],\n",
       "          [0., 0., 0.,  ..., 0., 0., 0.],\n",
       "          [0., 0., 0.,  ..., 0., 0., 0.],\n",
       "          ...,\n",
       "          [0., 0., 0.,  ..., 0., 0., 0.],\n",
       "          [0., 0., 0.,  ..., 0., 0., 0.],\n",
       "          [0., 0., 0.,  ..., 0., 0., 0.]],\n",
       " \n",
       "         [[0., 0., 0.,  ..., 0., 0., 0.],\n",
       "          [0., 0., 0.,  ..., 0., 0., 0.],\n",
       "          [0., 0., 0.,  ..., 0., 0., 0.],\n",
       "          ...,\n",
       "          [0., 0., 0.,  ..., 0., 0., 0.],\n",
       "          [0., 0., 0.,  ..., 0., 0., 0.],\n",
       "          [0., 0., 0.,  ..., 0., 0., 0.]]], device='cuda:0'),\n",
       " 'image_id': tensor([100], device='cuda:0'),\n",
       " 'area': tensor([ 951.9855,  985.3815,  852.2305,  847.6347,  827.6429,  971.9577,\n",
       "          835.0731,  883.8234,  852.2271,  788.2211, 1047.9236,  924.3049,\n",
       "         1643.6449,  852.2271,  852.2277,  872.9662,  831.0745, 1042.0093,\n",
       "          852.2271,  842.3036], device='cuda:0'),\n",
       " 'iscrowd': tensor([0, 0, 0, 0, 0, 0, 0, 0, 0, 0, 0, 0, 0, 0, 0, 0, 0, 0, 0, 0],\n",
       "        device='cuda:0')}"
      ]
     },
     "execution_count": 20,
     "metadata": {},
     "output_type": "execute_result"
    },
    {
     "name": "stdout",
     "output_type": "stream",
     "text": [
      "time: 73 ms\n"
     ]
    }
   ],
   "source": [
    "targets[0]"
   ]
  },
  {
   "cell_type": "code",
   "execution_count": 35,
   "metadata": {},
   "outputs": [
    {
     "data": {
      "text/plain": [
       "<matplotlib.image.AxesImage at 0x7f32e8fc83d0>"
      ]
     },
     "execution_count": 35,
     "metadata": {},
     "output_type": "execute_result"
    },
    {
     "data": {
      "image/png": "[encoded data removed]",
      "text/plain": [
       "<Figure size 400x600 with 1 Axes>"
      ]
     },
     "metadata": {
      "needs_background": "light"
     },
     "output_type": "display_data"
    },
    {
     "name": "stdout",
     "output_type": "stream",
     "text": [
      "time: 416 ms\n"
     ]
    }
   ],
   "source": [
    "#plot prediction\n",
    " \n",
    "road_img = gen_result_chart(prediction [0])\n",
    "fig, ax = plt.subplots(figsize=(2, 3))\n",
    "#color_list = ['b', 'g', 'orange', 'c', 'm', 'y', 'k', 'w', 'r']\n",
    " \n",
    "ax.imshow(road_img, cmap ='binary')"
   ]
  },
  {
   "cell_type": "code",
   "execution_count": 36,
   "metadata": {},
   "outputs": [
    {
     "data": {
      "text/plain": [
       "<matplotlib.image.AxesImage at 0x7f32e8ef9150>"
      ]
     },
     "execution_count": 36,
     "metadata": {},
     "output_type": "execute_result"
    },
    {
     "data": {
      "image/png": "[encoded data removed]",
      "text/plain": [
       "<Figure size 400x600 with 1 Axes>"
      ]
     },
     "metadata": {
      "needs_background": "light"
     },
     "output_type": "display_data"
    },
    {
     "name": "stdout",
     "output_type": "stream",
     "text": [
      "time: 379 ms\n"
     ]
    }
   ],
   "source": [
    "#plot targets\n",
    " \n",
    "road_img = gen_result_chart(targets [0])\n",
    "fig, ax = plt.subplots(figsize = (2,3))\n",
    "#color_list = ['b', 'g', 'orange', 'c', 'm', 'y', 'k', 'w', 'r']\n",
    " \n",
    "ax.imshow(road_img, cmap ='binary')"
   ]
  },
  {
   "cell_type": "code",
   "execution_count": 37,
   "metadata": {},
   "outputs": [
    {
     "name": "stdout",
     "output_type": "stream",
     "text": [
      "time: 1.08 s\n"
     ]
    }
   ],
   "source": [
    "#do another one\n",
    "for i, (sample, old_targets, road_image, extra) in enumerate(val_data_loader): #, print_freq, header): \n",
    "        \n",
    "        images = [tt(sew_images(s)).to(device) for s in sample] #list of [3, 800, 800], should be 1 per patch\n",
    "        targets = trans_target(old_targets)\n",
    "        \n",
    "        targets = [{k: v.to(device) for k, v in t.items()} for t in targets]\n",
    "        if i == 1:\n",
    "            break"
   ]
  },
  {
   "cell_type": "code",
   "execution_count": 38,
   "metadata": {},
   "outputs": [
    {
     "name": "stdout",
     "output_type": "stream",
     "text": [
      "time: 74.1 ms\n"
     ]
    }
   ],
   "source": [
    "model.eval()\n",
    "with torch.no_grad():\n",
    "     prediction2 = model(images)"
   ]
  },
  {
   "cell_type": "code",
   "execution_count": 39,
   "metadata": {},
   "outputs": [
    {
     "data": {
      "text/plain": [
       "<matplotlib.image.AxesImage at 0x7f32e8d5f490>"
      ]
     },
     "execution_count": 39,
     "metadata": {},
     "output_type": "execute_result"
    },
    {
     "data": {
      "image/png": "[encoded data removed]",
      "text/plain": [
       "<Figure size 400x600 with 1 Axes>"
      ]
     },
     "metadata": {
      "needs_background": "light"
     },
     "output_type": "display_data"
    },
    {
     "name": "stdout",
     "output_type": "stream",
     "text": [
      "time: 584 ms\n"
     ]
    }
   ],
   "source": [
    "road_img = gen_result_chart(prediction2 [0])\n",
    "fig, ax = plt.subplots(figsize=(2, 3))\n",
    "#color_list = ['b', 'g', 'orange', 'c', 'm', 'y', 'k', 'w', 'r']\n",
    " \n",
    "ax.imshow(road_img, cmap ='binary')"
   ]
  },
  {
   "cell_type": "code",
   "execution_count": 40,
   "metadata": {},
   "outputs": [
    {
     "data": {
      "text/plain": [
       "<matplotlib.image.AxesImage at 0x7f32e8c39790>"
      ]
     },
     "execution_count": 40,
     "metadata": {},
     "output_type": "execute_result"
    },
    {
     "data": {
      "image/png": "[encoded data removed]",
      "text/plain": [
       "<Figure size 400x600 with 1 Axes>"
      ]
     },
     "metadata": {
      "needs_background": "light"
     },
     "output_type": "display_data"
    },
    {
     "name": "stdout",
     "output_type": "stream",
     "text": [
      "time: 472 ms\n"
     ]
    }
   ],
   "source": [
    "road_img = gen_result_chart(targets [0])\n",
    "fig, ax = plt.subplots(figsize = (2,3))\n",
    "#color_list = ['b', 'g', 'orange', 'c', 'm', 'y', 'k', 'w', 'r']\n",
    " \n",
    "ax.imshow(road_img, cmap ='binary')"
   ]
  },
  {
   "cell_type": "code",
   "execution_count": null,
   "metadata": {},
   "outputs": [],
   "source": [
    " "
   ]
  }
 ],
 "metadata": {
  "kernelspec": {
   "display_name": "gpu",
   "language": "python",
   "name": "gpu"
  },
  "language_info": {
   "codemirror_mode": {
    "name": "ipython",
    "version": 3
   },
   "file_extension": ".py",
   "mimetype": "text/x-python",
   "name": "python",
   "nbconvert_exporter": "python",
   "pygments_lexer": "ipython3",
   "version": "3.7.7"
  }
 },
 "nbformat": 4,
 "nbformat_minor": 4
}
